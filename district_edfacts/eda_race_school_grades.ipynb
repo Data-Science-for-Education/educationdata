{
 "cells": [
  {
   "cell_type": "markdown",
   "metadata": {
    "collapsed": true,
    "pycharm": {
     "name": "#%% md\n"
    }
   },
   "source": [
    "# EDA Race and Assesments in 2017"
   ]
  },
  {
   "cell_type": "markdown",
   "metadata": {},
   "source": [
    "First we try to understand what type of data ed assesments contains.\n",
    "https://www2.ed.gov/about/inits/ed/edfacts/data-files/index.html\n",
    "\n",
    "According to the FAQ for educational assesments the following information will help:\n",
    "\n",
    "1.\tAre state assessments comparable?\n",
    "State assessments are designed by each state to measure the content the state has determined\n",
    "appropriate for that grade and subject. As a result, both the content on the tests and achievement\n",
    "standards students must meet to be considered “proficient” vary widely across states. Specific proficiency\n",
    " rates for schools in different states should not be considered comparable. Uses of the data to compare\n",
    " achievement across states could be done utilizing a school’s relation to their state mean or to a state\n",
    "  target, but should be done with caution. For more information, the National Center for Education Statistics\n",
    "  (NCES) has released a series of studies exploring state assessment comparability utilizing the National Assessment\n",
    "  of Educational Progress (NAEP).\n",
    "NCES studies on NAEP and state assessments can be accessed online here\n",
    "\n",
    "2.\tAre these data comparable from year to year?\n",
    "Many states changed their standards and assessments at some point in the process of measuring their students, so it is often not possible to create a trend line that looks at changes in achievement across years, since a change could reflect a change in one or more of several aspects of the state’s assessment system. For example, states may change their academic standards, state-wide assessment, or the cut-points for creating proficiency levels. This could result in drastic increases or decreases in percent proficient from year to year.\n",
    "For a list of states which reported they made changes to their state assessments between SY 2016-17 and SY 2017-18, see Appendix B - State Assessment Changes from Prior School Year"
   ]
  }
 ],
 "metadata": {
  "kernelspec": {
   "display_name": "Python 3",
   "language": "python",
   "name": "python3"
  },
  "language_info": {
   "codemirror_mode": {
    "name": "ipython",
    "version": 3
   },
   "file_extension": ".py",
   "mimetype": "text/x-python",
   "name": "python",
   "nbconvert_exporter": "python",
   "pygments_lexer": "ipython3",
   "version": "3.8.5"
  }
 },
 "nbformat": 4,
 "nbformat_minor": 1
}