{
 "cells": [
  {
   "cell_type": "markdown",
   "metadata": {},
   "source": [
    "# Factors that impact reading proficiency in US school districts from 2009-2016"
   ]
  },
  {
   "cell_type": "markdown",
   "metadata": {},
   "source": [
    "## Introduction"
   ]
  },
  {
   "cell_type": "markdown",
   "metadata": {},
   "source": [
    "Individuals with low reading proficiency are more likely to drop-out of high school, to end up in the criminal justice system, and to live in poverty. Even more, the lack of high school education is a powerful predictor of mortality variation among US states and high school dropouts make up disproportionately higher percentages of the nation’s institutionalized population than of the nation’s noninstitutionalized population, so low achievement in math and reading proficiency could be the start of a much larger issue.\n",
    "\n",
    "To understand the different levels of proficiency, we used features X, Y, Z in various models with the intent to answer the question of how does instructional spend from 2009-2016 spend impact math and reading proficiency amongst different demographics (e.g., race, gender, and socioeconomic status), as we hypothesize that achievement is determined by instructional expenditure.\n",
    "\n",
    "Our findings show that: \n",
    "i) All other factors being equal, female students are more likely to get mid point or high reading proficiency scores.\n",
    "ii) All other factors being equal, asian students are more likely to get mid point or high reading proficiency scores.\n",
    "iii) Instructional spend is lowly correlated with reading proficiency results in a given school district. \n"
   ]
  },
  {
   "cell_type": "markdown",
   "metadata": {},
   "source": [
    "## Education Data Models"
   ]
  },
  {
   "cell_type": "markdown",
   "metadata": {},
   "source": [
    "This notebook contains two models that predict educational outcomes based on instructional spend per district from 2009 to 2018. We use using publically available data by the Education Department.\n",
    "The following featues are included:\n",
    "- gender\n",
    "- grade\n",
    "- race\n",
    "- special demographic characteristics of a student (such as being in a military family, being an immigrant, having limited English language proficiency, having a disability, and being homeless)"
   ]
  },
  {
   "cell_type": "code",
   "execution_count": 2,
   "metadata": {},
   "outputs": [],
   "source": [
    "import pandas as pd\n",
    "import seaborn as sns\n",
    "import matplotlib.pyplot as plt\n",
    "import numpy as np\n",
    "import warnings\n",
    "warnings.filterwarnings('ignore')"
   ]
  },
  {
   "cell_type": "markdown",
   "metadata": {},
   "source": [
    "# Financial Data\n",
    "This dataframe  contains district level finance data including revenues from federal, state, and local governments and expenditures."
   ]
  },
  {
   "cell_type": "code",
   "execution_count": 3,
   "metadata": {},
   "outputs": [
    {
     "data": {
      "text/html": [
       "<div>\n",
       "<style scoped>\n",
       "    .dataframe tbody tr th:only-of-type {\n",
       "        vertical-align: middle;\n",
       "    }\n",
       "\n",
       "    .dataframe tbody tr th {\n",
       "        vertical-align: top;\n",
       "    }\n",
       "\n",
       "    .dataframe thead th {\n",
       "        text-align: right;\n",
       "    }\n",
       "</style>\n",
       "<table border=\"1\" class=\"dataframe\">\n",
       "  <thead>\n",
       "    <tr style=\"text-align: right;\">\n",
       "      <th></th>\n",
       "      <th>year</th>\n",
       "      <th>leaid</th>\n",
       "      <th>fips</th>\n",
       "      <th>censusid</th>\n",
       "      <th>rev_total</th>\n",
       "      <th>exp_total</th>\n",
       "      <th>exp_current_instruction_total</th>\n",
       "      <th>enrollment_fall_responsible</th>\n",
       "    </tr>\n",
       "  </thead>\n",
       "  <tbody>\n",
       "    <tr>\n",
       "      <th>258542</th>\n",
       "      <td>2009</td>\n",
       "      <td>0100002</td>\n",
       "      <td>1.0</td>\n",
       "      <td>-2.000000e+00</td>\n",
       "      <td>-2.0</td>\n",
       "      <td>-2.0</td>\n",
       "      <td>-2.0</td>\n",
       "      <td>0.0</td>\n",
       "    </tr>\n",
       "    <tr>\n",
       "      <th>258543</th>\n",
       "      <td>2009</td>\n",
       "      <td>0100005</td>\n",
       "      <td>1.0</td>\n",
       "      <td>1.504840e+12</td>\n",
       "      <td>38927000.0</td>\n",
       "      <td>57286000.0</td>\n",
       "      <td>20908000.0</td>\n",
       "      <td>4104.0</td>\n",
       "    </tr>\n",
       "    <tr>\n",
       "      <th>258544</th>\n",
       "      <td>2009</td>\n",
       "      <td>0100006</td>\n",
       "      <td>1.0</td>\n",
       "      <td>1.504800e+12</td>\n",
       "      <td>57766000.0</td>\n",
       "      <td>57101000.0</td>\n",
       "      <td>29908000.0</td>\n",
       "      <td>5777.0</td>\n",
       "    </tr>\n",
       "    <tr>\n",
       "      <th>258545</th>\n",
       "      <td>2009</td>\n",
       "      <td>0100007</td>\n",
       "      <td>1.0</td>\n",
       "      <td>1.503740e+12</td>\n",
       "      <td>149924000.0</td>\n",
       "      <td>152411000.0</td>\n",
       "      <td>83430000.0</td>\n",
       "      <td>12889.0</td>\n",
       "    </tr>\n",
       "    <tr>\n",
       "      <th>258546</th>\n",
       "      <td>2009</td>\n",
       "      <td>0100008</td>\n",
       "      <td>1.0</td>\n",
       "      <td>1.504530e+12</td>\n",
       "      <td>85030000.0</td>\n",
       "      <td>85734000.0</td>\n",
       "      <td>44662000.0</td>\n",
       "      <td>8654.0</td>\n",
       "    </tr>\n",
       "  </tbody>\n",
       "</table>\n",
       "</div>"
      ],
      "text/plain": [
       "        year    leaid  fips      censusid    rev_total    exp_total  \\\n",
       "258542  2009  0100002   1.0 -2.000000e+00         -2.0         -2.0   \n",
       "258543  2009  0100005   1.0  1.504840e+12   38927000.0   57286000.0   \n",
       "258544  2009  0100006   1.0  1.504800e+12   57766000.0   57101000.0   \n",
       "258545  2009  0100007   1.0  1.503740e+12  149924000.0  152411000.0   \n",
       "258546  2009  0100008   1.0  1.504530e+12   85030000.0   85734000.0   \n",
       "\n",
       "        exp_current_instruction_total  enrollment_fall_responsible  \n",
       "258542                           -2.0                          0.0  \n",
       "258543                     20908000.0                       4104.0  \n",
       "258544                     29908000.0                       5777.0  \n",
       "258545                     83430000.0                      12889.0  \n",
       "258546                     44662000.0                       8654.0  "
      ]
     },
     "execution_count": 3,
     "metadata": {},
     "output_type": "execute_result"
    }
   ],
   "source": [
    "finance_df = pd.read_csv(\"financial/districts_ccd_finance.csv.gz\",compression='gzip')\n",
    "finance_df.head(5)\n",
    "\n",
    "# only keep columns we are interested in\n",
    "finance_df = finance_df[['year', 'leaid', 'fips', 'censusid', 'rev_total', 'exp_total', \n",
    "                                             'exp_current_instruction_total', 'enrollment_fall_responsible']]\n",
    "\n",
    "finance_df = finance_df[finance_df.year > 2008]\n",
    "\n",
    "finance_df.head(5)"
   ]
  },
  {
   "cell_type": "markdown",
   "metadata": {},
   "source": [
    "## District Directory Data\n",
    "This dataframe contains school district geographic and mailing information, agency type, highest and lowest grades offered, special education students and English language learners, and full-time equivalent teachers and other staff."
   ]
  },
  {
   "cell_type": "code",
   "execution_count": 4,
   "metadata": {},
   "outputs": [],
   "source": [
    "directory_2009_df = pd.read_csv(\"district_directory/school-districts_lea_directory_2009.csv\", compression='gzip')\n",
    "directory_2010_df = pd.read_csv(\"district_directory/school-districts_lea_directory_2010.csv\", compression='gzip')\n",
    "directory_2011_df = pd.read_csv(\"district_directory/school-districts_lea_directory_2011.csv\", compression='gzip')\n",
    "directory_2012_df = pd.read_csv(\"district_directory/school-districts_lea_directory_2012.csv\", compression='gzip')\n",
    "directory_2013_df = pd.read_csv(\"district_directory/school-districts_lea_directory_2014.csv\", compression='gzip')\n",
    "directory_2014_df = pd.read_csv(\"district_directory/school-districts_lea_directory_2014.csv\", compression='gzip')\n",
    "directory_2015_df = pd.read_csv(\"district_directory/school-districts_lea_directory_2015.csv\", compression='gzip')\n",
    "directory_2016_df = pd.read_csv(\"district_directory/school-districts_lea_directory_2016.csv\", compression='gzip')\n",
    "directory_2017_df = pd.read_csv(\"district_directory/school-districts_lea_directory_2017.csv\", compression='gzip')\n",
    "directory_2018_df = pd.read_csv(\"district_directory/school-districts_lea_directory_2018.csv\", compression='gzip')"
   ]
  },
  {
   "cell_type": "code",
   "execution_count": 5,
   "metadata": {},
   "outputs": [
    {
     "data": {
      "text/html": [
       "<div>\n",
       "<style scoped>\n",
       "    .dataframe tbody tr th:only-of-type {\n",
       "        vertical-align: middle;\n",
       "    }\n",
       "\n",
       "    .dataframe tbody tr th {\n",
       "        vertical-align: top;\n",
       "    }\n",
       "\n",
       "    .dataframe thead th {\n",
       "        text-align: right;\n",
       "    }\n",
       "</style>\n",
       "<table border=\"1\" class=\"dataframe\">\n",
       "  <thead>\n",
       "    <tr style=\"text-align: right;\">\n",
       "      <th></th>\n",
       "      <th>year</th>\n",
       "      <th>leaid</th>\n",
       "      <th>lea_name</th>\n",
       "      <th>state_leaid</th>\n",
       "      <th>street_mailing</th>\n",
       "      <th>city_mailing</th>\n",
       "      <th>state_mailing</th>\n",
       "      <th>zip_mailing</th>\n",
       "      <th>zip4_mailing</th>\n",
       "      <th>street_location</th>\n",
       "      <th>...</th>\n",
       "      <th>school_counselors_fte</th>\n",
       "      <th>teachers_ungraded_fte</th>\n",
       "      <th>spec_ed_students</th>\n",
       "      <th>english_language_learners</th>\n",
       "      <th>enrollment</th>\n",
       "      <th>cmsa</th>\n",
       "      <th>bureau_indian_education</th>\n",
       "      <th>agency_charter_indicator</th>\n",
       "      <th>migrant_students</th>\n",
       "      <th>guidance_counselors_other_fte</th>\n",
       "    </tr>\n",
       "  </thead>\n",
       "  <tbody>\n",
       "    <tr>\n",
       "      <th>0</th>\n",
       "      <td>2009</td>\n",
       "      <td>100002</td>\n",
       "      <td>ALABAMA YOUTH SERVICES</td>\n",
       "      <td>210</td>\n",
       "      <td>P O BOX 66</td>\n",
       "      <td>MT MEIGS</td>\n",
       "      <td>AL</td>\n",
       "      <td>36057.0</td>\n",
       "      <td>66</td>\n",
       "      <td>1000 INDUSTRIAL SCHOOL RD</td>\n",
       "      <td>...</td>\n",
       "      <td>NaN</td>\n",
       "      <td>-2.0</td>\n",
       "      <td>43.0</td>\n",
       "      <td>0.0</td>\n",
       "      <td>0.0</td>\n",
       "      <td>NaN</td>\n",
       "      <td>0.0</td>\n",
       "      <td>3.0</td>\n",
       "      <td>NaN</td>\n",
       "      <td>-2.0</td>\n",
       "    </tr>\n",
       "    <tr>\n",
       "      <th>1</th>\n",
       "      <td>2009</td>\n",
       "      <td>100005</td>\n",
       "      <td>ALBERTVILLE CITY</td>\n",
       "      <td>101</td>\n",
       "      <td>107 WEST MAIN ST</td>\n",
       "      <td>ALBERTVILLE</td>\n",
       "      <td>AL</td>\n",
       "      <td>35950.0</td>\n",
       "      <td>25</td>\n",
       "      <td>107 WEST MAIN ST</td>\n",
       "      <td>...</td>\n",
       "      <td>NaN</td>\n",
       "      <td>-2.0</td>\n",
       "      <td>306.0</td>\n",
       "      <td>812.0</td>\n",
       "      <td>4104.0</td>\n",
       "      <td>NaN</td>\n",
       "      <td>0.0</td>\n",
       "      <td>3.0</td>\n",
       "      <td>NaN</td>\n",
       "      <td>-2.0</td>\n",
       "    </tr>\n",
       "    <tr>\n",
       "      <th>2</th>\n",
       "      <td>2009</td>\n",
       "      <td>100006</td>\n",
       "      <td>MARSHALL COUNTY</td>\n",
       "      <td>048</td>\n",
       "      <td>12380 US HIGHWAY 431 S</td>\n",
       "      <td>GUNTERSVILLE</td>\n",
       "      <td>AL</td>\n",
       "      <td>35976.0</td>\n",
       "      <td>9351</td>\n",
       "      <td>12380 US HWY 431 SOUTH</td>\n",
       "      <td>...</td>\n",
       "      <td>NaN</td>\n",
       "      <td>-2.0</td>\n",
       "      <td>792.0</td>\n",
       "      <td>380.0</td>\n",
       "      <td>5777.0</td>\n",
       "      <td>NaN</td>\n",
       "      <td>0.0</td>\n",
       "      <td>3.0</td>\n",
       "      <td>NaN</td>\n",
       "      <td>0.5</td>\n",
       "    </tr>\n",
       "    <tr>\n",
       "      <th>3</th>\n",
       "      <td>2009</td>\n",
       "      <td>100007</td>\n",
       "      <td>HOOVER CITY</td>\n",
       "      <td>158</td>\n",
       "      <td>2810 METROPOLITAN WAY</td>\n",
       "      <td>HOOVER</td>\n",
       "      <td>AL</td>\n",
       "      <td>35243.0</td>\n",
       "      <td>5500</td>\n",
       "      <td>2810 METROPOLITAN WAY</td>\n",
       "      <td>...</td>\n",
       "      <td>NaN</td>\n",
       "      <td>-2.0</td>\n",
       "      <td>1022.0</td>\n",
       "      <td>580.0</td>\n",
       "      <td>12889.0</td>\n",
       "      <td>NaN</td>\n",
       "      <td>0.0</td>\n",
       "      <td>3.0</td>\n",
       "      <td>NaN</td>\n",
       "      <td>-2.0</td>\n",
       "    </tr>\n",
       "    <tr>\n",
       "      <th>4</th>\n",
       "      <td>2009</td>\n",
       "      <td>100008</td>\n",
       "      <td>MADISON CITY</td>\n",
       "      <td>169</td>\n",
       "      <td>211 CELTIC DRIVE</td>\n",
       "      <td>MADISON</td>\n",
       "      <td>AL</td>\n",
       "      <td>35758.0</td>\n",
       "      <td>1615</td>\n",
       "      <td>211 CELTIC DR</td>\n",
       "      <td>...</td>\n",
       "      <td>NaN</td>\n",
       "      <td>-2.0</td>\n",
       "      <td>774.0</td>\n",
       "      <td>249.0</td>\n",
       "      <td>8654.0</td>\n",
       "      <td>NaN</td>\n",
       "      <td>0.0</td>\n",
       "      <td>3.0</td>\n",
       "      <td>NaN</td>\n",
       "      <td>-2.0</td>\n",
       "    </tr>\n",
       "  </tbody>\n",
       "</table>\n",
       "<p>5 rows × 67 columns</p>\n",
       "</div>"
      ],
      "text/plain": [
       "   year   leaid                lea_name state_leaid          street_mailing  \\\n",
       "0  2009  100002  ALABAMA YOUTH SERVICES         210              P O BOX 66   \n",
       "1  2009  100005        ALBERTVILLE CITY         101        107 WEST MAIN ST   \n",
       "2  2009  100006         MARSHALL COUNTY         048  12380 US HIGHWAY 431 S   \n",
       "3  2009  100007             HOOVER CITY         158   2810 METROPOLITAN WAY   \n",
       "4  2009  100008            MADISON CITY         169        211 CELTIC DRIVE   \n",
       "\n",
       "   city_mailing state_mailing  zip_mailing zip4_mailing  \\\n",
       "0      MT MEIGS            AL      36057.0           66   \n",
       "1   ALBERTVILLE            AL      35950.0           25   \n",
       "2  GUNTERSVILLE            AL      35976.0         9351   \n",
       "3        HOOVER            AL      35243.0         5500   \n",
       "4       MADISON            AL      35758.0         1615   \n",
       "\n",
       "             street_location  ... school_counselors_fte teachers_ungraded_fte  \\\n",
       "0  1000 INDUSTRIAL SCHOOL RD  ...                   NaN                  -2.0   \n",
       "1           107 WEST MAIN ST  ...                   NaN                  -2.0   \n",
       "2     12380 US HWY 431 SOUTH  ...                   NaN                  -2.0   \n",
       "3      2810 METROPOLITAN WAY  ...                   NaN                  -2.0   \n",
       "4              211 CELTIC DR  ...                   NaN                  -2.0   \n",
       "\n",
       "   spec_ed_students english_language_learners enrollment  cmsa  \\\n",
       "0              43.0                       0.0        0.0   NaN   \n",
       "1             306.0                     812.0     4104.0   NaN   \n",
       "2             792.0                     380.0     5777.0   NaN   \n",
       "3            1022.0                     580.0    12889.0   NaN   \n",
       "4             774.0                     249.0     8654.0   NaN   \n",
       "\n",
       "   bureau_indian_education  agency_charter_indicator migrant_students  \\\n",
       "0                      0.0                       3.0              NaN   \n",
       "1                      0.0                       3.0              NaN   \n",
       "2                      0.0                       3.0              NaN   \n",
       "3                      0.0                       3.0              NaN   \n",
       "4                      0.0                       3.0              NaN   \n",
       "\n",
       "   guidance_counselors_other_fte  \n",
       "0                           -2.0  \n",
       "1                           -2.0  \n",
       "2                            0.5  \n",
       "3                           -2.0  \n",
       "4                           -2.0  \n",
       "\n",
       "[5 rows x 67 columns]"
      ]
     },
     "execution_count": 5,
     "metadata": {},
     "output_type": "execute_result"
    }
   ],
   "source": [
    "# missing concatenation in overall directory df\n",
    "directory_df = pd.concat([directory_2009_df, directory_2010_df, directory_2011_df, directory_2012_df,\n",
    "                         directory_2013_df, directory_2014_df, directory_2015_df, directory_2016_df,\n",
    "                         directory_2017_df, directory_2018_df], axis=0)\n",
    "directory_df.head(5)"
   ]
  },
  {
   "cell_type": "code",
   "execution_count": 6,
   "metadata": {},
   "outputs": [],
   "source": [
    "directory_df = directory_df[['year', 'leaid', 'lea_name', 'state_leaid','state_location', 'zip_location', 'fips', \n",
    "                             'county_code', 'county_name', 'latitude', 'longitude', 'urban_centric_locale']]"
   ]
  },
  {
   "cell_type": "code",
   "execution_count": 7,
   "metadata": {},
   "outputs": [
    {
     "data": {
      "text/html": [
       "<div>\n",
       "<style scoped>\n",
       "    .dataframe tbody tr th:only-of-type {\n",
       "        vertical-align: middle;\n",
       "    }\n",
       "\n",
       "    .dataframe tbody tr th {\n",
       "        vertical-align: top;\n",
       "    }\n",
       "\n",
       "    .dataframe thead th {\n",
       "        text-align: right;\n",
       "    }\n",
       "</style>\n",
       "<table border=\"1\" class=\"dataframe\">\n",
       "  <thead>\n",
       "    <tr style=\"text-align: right;\">\n",
       "      <th></th>\n",
       "      <th>year</th>\n",
       "      <th>leaid</th>\n",
       "      <th>lea_name</th>\n",
       "      <th>state_leaid</th>\n",
       "      <th>state_location</th>\n",
       "      <th>zip_location</th>\n",
       "      <th>fips</th>\n",
       "      <th>county_code</th>\n",
       "      <th>county_name</th>\n",
       "      <th>latitude</th>\n",
       "      <th>longitude</th>\n",
       "      <th>urban_centric_locale</th>\n",
       "    </tr>\n",
       "  </thead>\n",
       "  <tbody>\n",
       "    <tr>\n",
       "      <th>0</th>\n",
       "      <td>2009</td>\n",
       "      <td>100002</td>\n",
       "      <td>ALABAMA YOUTH SERVICES</td>\n",
       "      <td>210</td>\n",
       "      <td>AL</td>\n",
       "      <td>36057.0</td>\n",
       "      <td>1.0</td>\n",
       "      <td>1101.0</td>\n",
       "      <td>MONTGOMERY COUNTY</td>\n",
       "      <td>32.376999</td>\n",
       "      <td>-86.083000</td>\n",
       "      <td>41.0</td>\n",
       "    </tr>\n",
       "    <tr>\n",
       "      <th>1</th>\n",
       "      <td>2009</td>\n",
       "      <td>100005</td>\n",
       "      <td>ALBERTVILLE CITY</td>\n",
       "      <td>101</td>\n",
       "      <td>AL</td>\n",
       "      <td>35950.0</td>\n",
       "      <td>1.0</td>\n",
       "      <td>1095.0</td>\n",
       "      <td>MARSHALL COUNTY</td>\n",
       "      <td>34.267872</td>\n",
       "      <td>-86.208954</td>\n",
       "      <td>32.0</td>\n",
       "    </tr>\n",
       "    <tr>\n",
       "      <th>2</th>\n",
       "      <td>2009</td>\n",
       "      <td>100006</td>\n",
       "      <td>MARSHALL COUNTY</td>\n",
       "      <td>048</td>\n",
       "      <td>AL</td>\n",
       "      <td>35976.0</td>\n",
       "      <td>1.0</td>\n",
       "      <td>1095.0</td>\n",
       "      <td>MARSHALL COUNTY</td>\n",
       "      <td>34.306667</td>\n",
       "      <td>-86.292007</td>\n",
       "      <td>42.0</td>\n",
       "    </tr>\n",
       "    <tr>\n",
       "      <th>3</th>\n",
       "      <td>2009</td>\n",
       "      <td>100007</td>\n",
       "      <td>HOOVER CITY</td>\n",
       "      <td>158</td>\n",
       "      <td>AL</td>\n",
       "      <td>35243.0</td>\n",
       "      <td>1.0</td>\n",
       "      <td>1073.0</td>\n",
       "      <td>JEFFERSON COUNTY</td>\n",
       "      <td>33.406399</td>\n",
       "      <td>-86.766701</td>\n",
       "      <td>13.0</td>\n",
       "    </tr>\n",
       "    <tr>\n",
       "      <th>4</th>\n",
       "      <td>2009</td>\n",
       "      <td>100008</td>\n",
       "      <td>MADISON CITY</td>\n",
       "      <td>169</td>\n",
       "      <td>AL</td>\n",
       "      <td>35758.0</td>\n",
       "      <td>1.0</td>\n",
       "      <td>1089.0</td>\n",
       "      <td>MADISON COUNTY</td>\n",
       "      <td>34.688652</td>\n",
       "      <td>-86.744812</td>\n",
       "      <td>22.0</td>\n",
       "    </tr>\n",
       "  </tbody>\n",
       "</table>\n",
       "</div>"
      ],
      "text/plain": [
       "   year   leaid                lea_name state_leaid state_location  \\\n",
       "0  2009  100002  ALABAMA YOUTH SERVICES         210             AL   \n",
       "1  2009  100005        ALBERTVILLE CITY         101             AL   \n",
       "2  2009  100006         MARSHALL COUNTY         048             AL   \n",
       "3  2009  100007             HOOVER CITY         158             AL   \n",
       "4  2009  100008            MADISON CITY         169             AL   \n",
       "\n",
       "   zip_location  fips  county_code        county_name   latitude  longitude  \\\n",
       "0       36057.0   1.0       1101.0  MONTGOMERY COUNTY  32.376999 -86.083000   \n",
       "1       35950.0   1.0       1095.0    MARSHALL COUNTY  34.267872 -86.208954   \n",
       "2       35976.0   1.0       1095.0    MARSHALL COUNTY  34.306667 -86.292007   \n",
       "3       35243.0   1.0       1073.0   JEFFERSON COUNTY  33.406399 -86.766701   \n",
       "4       35758.0   1.0       1089.0     MADISON COUNTY  34.688652 -86.744812   \n",
       "\n",
       "   urban_centric_locale  \n",
       "0                  41.0  \n",
       "1                  32.0  \n",
       "2                  42.0  \n",
       "3                  13.0  \n",
       "4                  22.0  "
      ]
     },
     "execution_count": 7,
     "metadata": {},
     "output_type": "execute_result"
    }
   ],
   "source": [
    "directory_df.head(5)"
   ]
  },
  {
   "cell_type": "code",
   "execution_count": 8,
   "metadata": {},
   "outputs": [],
   "source": [
    "edfacts_2009_df = pd.read_csv(\"district_edfacts/districts_edfacts_assessments_2009.csv\", compression='gzip')\n",
    "edfacts_2010_df = pd.read_csv(\"district_edfacts/districts_edfacts_assessments_2010.csv\", compression='gzip')\n",
    "edfacts_2011_df = pd.read_csv(\"district_edfacts/districts_edfacts_assessments_2011.csv\", compression='gzip')\n",
    "edfacts_2012_df = pd.read_csv(\"district_edfacts/districts_edfacts_assessments_2012.csv\", compression='gzip')\n",
    "edfacts_2013_df = pd.read_csv(\"district_edfacts/districts_edfacts_assessments_2013.csv\", compression='gzip')\n",
    "edfacts_2014_df = pd.read_csv(\"district_edfacts/districts_edfacts_assessments_2014.csv\", compression='gzip')\n",
    "edfacts_2015_df = pd.read_csv(\"district_edfacts/districts_edfacts_assessments_2015.csv\", compression='gzip')\n",
    "edfacts_2016_df = pd.read_csv(\"district_edfacts/districts_edfacts_assessments_2016.csv\", compression='gzip')\n",
    "edfacts_2017_df = pd.read_csv(\"district_edfacts/districts_edfacts_assessments_2017.csv\", compression='gzip')"
   ]
  },
  {
   "cell_type": "code",
   "execution_count": 9,
   "metadata": {},
   "outputs": [
    {
     "data": {
      "text/html": [
       "<div>\n",
       "<style scoped>\n",
       "    .dataframe tbody tr th:only-of-type {\n",
       "        vertical-align: middle;\n",
       "    }\n",
       "\n",
       "    .dataframe tbody tr th {\n",
       "        vertical-align: top;\n",
       "    }\n",
       "\n",
       "    .dataframe thead th {\n",
       "        text-align: right;\n",
       "    }\n",
       "</style>\n",
       "<table border=\"1\" class=\"dataframe\">\n",
       "  <thead>\n",
       "    <tr style=\"text-align: right;\">\n",
       "      <th></th>\n",
       "      <th>leaid</th>\n",
       "      <th>leaid_num</th>\n",
       "      <th>year</th>\n",
       "      <th>lea_name</th>\n",
       "      <th>fips</th>\n",
       "      <th>grade_edfacts</th>\n",
       "      <th>race</th>\n",
       "      <th>sex</th>\n",
       "      <th>lep</th>\n",
       "      <th>homeless</th>\n",
       "      <th>...</th>\n",
       "      <th>foster_care</th>\n",
       "      <th>military_connected</th>\n",
       "      <th>read_test_num_valid</th>\n",
       "      <th>read_test_pct_prof_low</th>\n",
       "      <th>read_test_pct_prof_high</th>\n",
       "      <th>read_test_pct_prof_midpt</th>\n",
       "      <th>math_test_num_valid</th>\n",
       "      <th>math_test_pct_prof_low</th>\n",
       "      <th>math_test_pct_prof_high</th>\n",
       "      <th>math_test_pct_prof_midpt</th>\n",
       "    </tr>\n",
       "  </thead>\n",
       "  <tbody>\n",
       "    <tr>\n",
       "      <th>0</th>\n",
       "      <td>200001</td>\n",
       "      <td>200001</td>\n",
       "      <td>2009</td>\n",
       "      <td>Lower Kuskokwim School District</td>\n",
       "      <td>2</td>\n",
       "      <td>99</td>\n",
       "      <td>99</td>\n",
       "      <td>99</td>\n",
       "      <td>99</td>\n",
       "      <td>99</td>\n",
       "      <td>...</td>\n",
       "      <td>99</td>\n",
       "      <td>99</td>\n",
       "      <td>2305.0</td>\n",
       "      <td>46.0</td>\n",
       "      <td>46.0</td>\n",
       "      <td>46.0</td>\n",
       "      <td>2297.0</td>\n",
       "      <td>37.0</td>\n",
       "      <td>37.0</td>\n",
       "      <td>37.0</td>\n",
       "    </tr>\n",
       "    <tr>\n",
       "      <th>1</th>\n",
       "      <td>200001</td>\n",
       "      <td>200001</td>\n",
       "      <td>2009</td>\n",
       "      <td>Lower Kuskokwim School District</td>\n",
       "      <td>2</td>\n",
       "      <td>99</td>\n",
       "      <td>5</td>\n",
       "      <td>99</td>\n",
       "      <td>99</td>\n",
       "      <td>99</td>\n",
       "      <td>...</td>\n",
       "      <td>99</td>\n",
       "      <td>99</td>\n",
       "      <td>2190.0</td>\n",
       "      <td>44.0</td>\n",
       "      <td>44.0</td>\n",
       "      <td>44.0</td>\n",
       "      <td>2182.0</td>\n",
       "      <td>35.0</td>\n",
       "      <td>35.0</td>\n",
       "      <td>35.0</td>\n",
       "    </tr>\n",
       "    <tr>\n",
       "      <th>2</th>\n",
       "      <td>200001</td>\n",
       "      <td>200001</td>\n",
       "      <td>2009</td>\n",
       "      <td>Lower Kuskokwim School District</td>\n",
       "      <td>2</td>\n",
       "      <td>99</td>\n",
       "      <td>4</td>\n",
       "      <td>99</td>\n",
       "      <td>99</td>\n",
       "      <td>99</td>\n",
       "      <td>...</td>\n",
       "      <td>99</td>\n",
       "      <td>99</td>\n",
       "      <td>9.0</td>\n",
       "      <td>50.0</td>\n",
       "      <td>100.0</td>\n",
       "      <td>75.0</td>\n",
       "      <td>9.0</td>\n",
       "      <td>50.0</td>\n",
       "      <td>100.0</td>\n",
       "      <td>75.0</td>\n",
       "    </tr>\n",
       "    <tr>\n",
       "      <th>3</th>\n",
       "      <td>200001</td>\n",
       "      <td>200001</td>\n",
       "      <td>2009</td>\n",
       "      <td>Lower Kuskokwim School District</td>\n",
       "      <td>2</td>\n",
       "      <td>99</td>\n",
       "      <td>2</td>\n",
       "      <td>99</td>\n",
       "      <td>99</td>\n",
       "      <td>99</td>\n",
       "      <td>...</td>\n",
       "      <td>99</td>\n",
       "      <td>99</td>\n",
       "      <td>4.0</td>\n",
       "      <td>-3.0</td>\n",
       "      <td>-3.0</td>\n",
       "      <td>-3.0</td>\n",
       "      <td>4.0</td>\n",
       "      <td>-3.0</td>\n",
       "      <td>-3.0</td>\n",
       "      <td>-3.0</td>\n",
       "    </tr>\n",
       "    <tr>\n",
       "      <th>4</th>\n",
       "      <td>200001</td>\n",
       "      <td>200001</td>\n",
       "      <td>2009</td>\n",
       "      <td>Lower Kuskokwim School District</td>\n",
       "      <td>2</td>\n",
       "      <td>99</td>\n",
       "      <td>99</td>\n",
       "      <td>99</td>\n",
       "      <td>99</td>\n",
       "      <td>99</td>\n",
       "      <td>...</td>\n",
       "      <td>99</td>\n",
       "      <td>99</td>\n",
       "      <td>321.0</td>\n",
       "      <td>14.0</td>\n",
       "      <td>14.0</td>\n",
       "      <td>14.0</td>\n",
       "      <td>321.0</td>\n",
       "      <td>13.0</td>\n",
       "      <td>13.0</td>\n",
       "      <td>13.0</td>\n",
       "    </tr>\n",
       "  </tbody>\n",
       "</table>\n",
       "<p>5 rows × 23 columns</p>\n",
       "</div>"
      ],
      "text/plain": [
       "    leaid  leaid_num  year                         lea_name  fips  \\\n",
       "0  200001     200001  2009  Lower Kuskokwim School District     2   \n",
       "1  200001     200001  2009  Lower Kuskokwim School District     2   \n",
       "2  200001     200001  2009  Lower Kuskokwim School District     2   \n",
       "3  200001     200001  2009  Lower Kuskokwim School District     2   \n",
       "4  200001     200001  2009  Lower Kuskokwim School District     2   \n",
       "\n",
       "   grade_edfacts  race  sex  lep  homeless  ...  foster_care  \\\n",
       "0             99    99   99   99        99  ...           99   \n",
       "1             99     5   99   99        99  ...           99   \n",
       "2             99     4   99   99        99  ...           99   \n",
       "3             99     2   99   99        99  ...           99   \n",
       "4             99    99   99   99        99  ...           99   \n",
       "\n",
       "   military_connected  read_test_num_valid  read_test_pct_prof_low  \\\n",
       "0                  99               2305.0                    46.0   \n",
       "1                  99               2190.0                    44.0   \n",
       "2                  99                  9.0                    50.0   \n",
       "3                  99                  4.0                    -3.0   \n",
       "4                  99                321.0                    14.0   \n",
       "\n",
       "   read_test_pct_prof_high  read_test_pct_prof_midpt  math_test_num_valid  \\\n",
       "0                     46.0                      46.0               2297.0   \n",
       "1                     44.0                      44.0               2182.0   \n",
       "2                    100.0                      75.0                  9.0   \n",
       "3                     -3.0                      -3.0                  4.0   \n",
       "4                     14.0                      14.0                321.0   \n",
       "\n",
       "   math_test_pct_prof_low  math_test_pct_prof_high  math_test_pct_prof_midpt  \n",
       "0                    37.0                     37.0                      37.0  \n",
       "1                    35.0                     35.0                      35.0  \n",
       "2                    50.0                    100.0                      75.0  \n",
       "3                    -3.0                     -3.0                      -3.0  \n",
       "4                    13.0                     13.0                      13.0  \n",
       "\n",
       "[5 rows x 23 columns]"
      ]
     },
     "execution_count": 9,
     "metadata": {},
     "output_type": "execute_result"
    }
   ],
   "source": [
    "\n",
    "edfacts_df = pd.concat([edfacts_2009_df, edfacts_2010_df, edfacts_2011_df, edfacts_2012_df,\n",
    "                         edfacts_2013_df, edfacts_2014_df, edfacts_2015_df, edfacts_2016_df,\n",
    "                         edfacts_2017_df], axis=0)\n",
    "edfacts_df.head(5)"
   ]
  },
  {
   "cell_type": "code",
   "execution_count": 10,
   "metadata": {},
   "outputs": [
    {
     "name": "stdout",
     "output_type": "stream",
     "text": [
      "['leaid', 'leaid_num', 'year', 'lea_name', 'fips', 'grade_edfacts', 'race', 'sex', 'lep', 'homeless', 'migrant', 'disability', 'econ_disadvantaged', 'foster_care', 'military_connected', 'read_test_num_valid', 'read_test_pct_prof_low', 'read_test_pct_prof_high', 'read_test_pct_prof_midpt', 'math_test_num_valid', 'math_test_pct_prof_low', 'math_test_pct_prof_high', 'math_test_pct_prof_midpt']\n"
     ]
    }
   ],
   "source": [
    "print(edfacts_df.columns.tolist())"
   ]
  },
  {
   "cell_type": "code",
   "execution_count": 11,
   "metadata": {},
   "outputs": [],
   "source": [
    "edfacts_df = edfacts_df[['leaid', 'leaid_num', 'year', 'lea_name', 'fips', 'grade_edfacts', 'race', 'sex', 'lep', \n",
    "                         'homeless', 'migrant', 'disability', 'econ_disadvantaged', 'foster_care', 'military_connected', \n",
    "                         'read_test_num_valid', 'read_test_pct_prof_low', 'read_test_pct_prof_high', \n",
    "                         'read_test_pct_prof_midpt', 'math_test_num_valid', 'math_test_pct_prof_low', \n",
    "                         'math_test_pct_prof_high', 'math_test_pct_prof_midpt']]"
   ]
  },
  {
   "cell_type": "code",
   "execution_count": 12,
   "metadata": {},
   "outputs": [],
   "source": [
    "enrollment_2009_df = pd.read_csv(\"district_enrollment/schools_ccd_lea_enrollment_2009.csv\", compression='gzip')\n",
    "enrollment_2010_df = pd.read_csv(\"district_enrollment/schools_ccd_lea_enrollment_2010.csv\", compression='gzip')\n",
    "enrollment_2011_df = pd.read_csv(\"district_enrollment/schools_ccd_lea_enrollment_2011.csv\", compression='gzip')\n",
    "enrollment_2012_df = pd.read_csv(\"district_enrollment/schools_ccd_lea_enrollment_2012.csv\", compression='gzip')\n",
    "enrollment_2013_df = pd.read_csv(\"district_enrollment/schools_ccd_lea_enrollment_2013.csv\", compression='gzip')\n",
    "enrollment_2014_df = pd.read_csv(\"district_enrollment/schools_ccd_lea_enrollment_2014.csv\", compression='gzip')\n",
    "enrollment_2015_df = pd.read_csv(\"district_enrollment/schools_ccd_lea_enrollment_2015.csv\", compression='gzip')\n",
    "enrollment_2016_df = pd.read_csv(\"district_enrollment/schools_ccd_lea_enrollment_2016.csv\", compression='gzip')\n",
    "enrollment_2017_df = pd.read_csv(\"district_enrollment/schools_ccd_lea_enrollment_2017.csv\", compression='gzip')\n",
    "enrollment_2018_df = pd.read_csv(\"district_enrollment/schools_ccd_lea_enrollment_2018.csv\", compression='gzip')"
   ]
  },
  {
   "cell_type": "code",
   "execution_count": 13,
   "metadata": {},
   "outputs": [
    {
     "data": {
      "text/html": [
       "<div>\n",
       "<style scoped>\n",
       "    .dataframe tbody tr th:only-of-type {\n",
       "        vertical-align: middle;\n",
       "    }\n",
       "\n",
       "    .dataframe tbody tr th {\n",
       "        vertical-align: top;\n",
       "    }\n",
       "\n",
       "    .dataframe thead th {\n",
       "        text-align: right;\n",
       "    }\n",
       "</style>\n",
       "<table border=\"1\" class=\"dataframe\">\n",
       "  <thead>\n",
       "    <tr style=\"text-align: right;\">\n",
       "      <th></th>\n",
       "      <th>year</th>\n",
       "      <th>leaid</th>\n",
       "      <th>fips</th>\n",
       "      <th>grade</th>\n",
       "      <th>race</th>\n",
       "      <th>sex</th>\n",
       "      <th>enrollment</th>\n",
       "    </tr>\n",
       "  </thead>\n",
       "  <tbody>\n",
       "    <tr>\n",
       "      <th>0</th>\n",
       "      <td>2009</td>\n",
       "      <td>100002</td>\n",
       "      <td>1</td>\n",
       "      <td>3</td>\n",
       "      <td>1</td>\n",
       "      <td>1</td>\n",
       "      <td>0.0</td>\n",
       "    </tr>\n",
       "    <tr>\n",
       "      <th>1</th>\n",
       "      <td>2009</td>\n",
       "      <td>100002</td>\n",
       "      <td>1</td>\n",
       "      <td>3</td>\n",
       "      <td>1</td>\n",
       "      <td>2</td>\n",
       "      <td>0.0</td>\n",
       "    </tr>\n",
       "    <tr>\n",
       "      <th>2</th>\n",
       "      <td>2009</td>\n",
       "      <td>100002</td>\n",
       "      <td>1</td>\n",
       "      <td>3</td>\n",
       "      <td>1</td>\n",
       "      <td>99</td>\n",
       "      <td>0.0</td>\n",
       "    </tr>\n",
       "    <tr>\n",
       "      <th>3</th>\n",
       "      <td>2009</td>\n",
       "      <td>100002</td>\n",
       "      <td>1</td>\n",
       "      <td>3</td>\n",
       "      <td>2</td>\n",
       "      <td>1</td>\n",
       "      <td>0.0</td>\n",
       "    </tr>\n",
       "    <tr>\n",
       "      <th>4</th>\n",
       "      <td>2009</td>\n",
       "      <td>100002</td>\n",
       "      <td>1</td>\n",
       "      <td>3</td>\n",
       "      <td>2</td>\n",
       "      <td>2</td>\n",
       "      <td>0.0</td>\n",
       "    </tr>\n",
       "  </tbody>\n",
       "</table>\n",
       "</div>"
      ],
      "text/plain": [
       "   year   leaid  fips  grade  race  sex  enrollment\n",
       "0  2009  100002     1      3     1    1         0.0\n",
       "1  2009  100002     1      3     1    2         0.0\n",
       "2  2009  100002     1      3     1   99         0.0\n",
       "3  2009  100002     1      3     2    1         0.0\n",
       "4  2009  100002     1      3     2    2         0.0"
      ]
     },
     "execution_count": 13,
     "metadata": {},
     "output_type": "execute_result"
    }
   ],
   "source": [
    "\n",
    "enroll_df = pd.concat([enrollment_2009_df, enrollment_2010_df, enrollment_2011_df, enrollment_2012_df,\n",
    "                         enrollment_2013_df, enrollment_2014_df, enrollment_2015_df, enrollment_2016_df,\n",
    "                         enrollment_2017_df, enrollment_2018_df], axis=0)\n",
    "enroll_df.head(5)"
   ]
  },
  {
   "cell_type": "code",
   "execution_count": 14,
   "metadata": {},
   "outputs": [
    {
     "name": "stdout",
     "output_type": "stream",
     "text": [
      "['year', 'leaid', 'fips', 'grade', 'race', 'sex', 'enrollment']\n"
     ]
    }
   ],
   "source": [
    "print(enroll_df.columns.tolist())"
   ]
  },
  {
   "cell_type": "code",
   "execution_count": 15,
   "metadata": {},
   "outputs": [],
   "source": [
    "# merging directory, edfacts\n",
    "master_temp_df = pd.merge(directory_df, edfacts_df)"
   ]
  },
  {
   "cell_type": "code",
   "execution_count": 16,
   "metadata": {},
   "outputs": [],
   "source": [
    "# merging (directory, edfacts) with enroll\n",
    "master_temp2_df = pd.merge(master_temp_df, enroll_df)"
   ]
  },
  {
   "cell_type": "code",
   "execution_count": 17,
   "metadata": {},
   "outputs": [],
   "source": [
    "master_df = pd.merge(master_temp2_df, finance_df)\n",
    "# Todo: refactor to use join. "
   ]
  },
  {
   "cell_type": "code",
   "execution_count": 18,
   "metadata": {},
   "outputs": [
    {
     "name": "stdout",
     "output_type": "stream",
     "text": [
      "['year', 'leaid', 'lea_name', 'state_leaid', 'state_location', 'zip_location', 'fips', 'county_code', 'county_name', 'latitude', 'longitude', 'urban_centric_locale', 'leaid_num', 'grade_edfacts', 'race', 'sex', 'lep', 'homeless', 'migrant', 'disability', 'econ_disadvantaged', 'foster_care', 'military_connected', 'read_test_num_valid', 'read_test_pct_prof_low', 'read_test_pct_prof_high', 'read_test_pct_prof_midpt', 'math_test_num_valid', 'math_test_pct_prof_low', 'math_test_pct_prof_high', 'math_test_pct_prof_midpt', 'grade', 'enrollment', 'censusid', 'rev_total', 'exp_total', 'exp_current_instruction_total', 'enrollment_fall_responsible']\n"
     ]
    }
   ],
   "source": [
    "print(master_df.columns.tolist())"
   ]
  },
  {
   "cell_type": "code",
   "execution_count": 19,
   "metadata": {},
   "outputs": [],
   "source": [
    "import statsmodels.api as sm\n",
    "import statsmodels.formula.api as smf"
   ]
  },
  {
   "cell_type": "markdown",
   "metadata": {},
   "source": [
    "# Adding Instructional Spend Per Student Feature"
   ]
  },
  {
   "cell_type": "code",
   "execution_count": 20,
   "metadata": {},
   "outputs": [],
   "source": [
    "master_df[\"total_spend_per_student\"] = master_df[ \"exp_total\"] / master_df[ \"enrollment_fall_responsible\"]\n",
    "master_df[\"instruction_spend_per_student\"] = master_df[ \"exp_current_instruction_total\"] / master_df[ \"enrollment_fall_responsible\"]"
   ]
  },
  {
   "cell_type": "markdown",
   "metadata": {},
   "source": [
    "# Clean Data Frame\n",
    "0. Remove NaN\n",
    "1. Only keep positive numbers,  exclude lat, long\n",
    "2. Remove outliers for  instructional total  \n",
    "3. Remove districts that have less than 100 students"
   ]
  },
  {
   "cell_type": "code",
   "execution_count": 21,
   "metadata": {},
   "outputs": [
    {
     "data": {
      "text/html": [
       "<div>\n",
       "<style scoped>\n",
       "    .dataframe tbody tr th:only-of-type {\n",
       "        vertical-align: middle;\n",
       "    }\n",
       "\n",
       "    .dataframe tbody tr th {\n",
       "        vertical-align: top;\n",
       "    }\n",
       "\n",
       "    .dataframe thead th {\n",
       "        text-align: right;\n",
       "    }\n",
       "</style>\n",
       "<table border=\"1\" class=\"dataframe\">\n",
       "  <thead>\n",
       "    <tr style=\"text-align: right;\">\n",
       "      <th></th>\n",
       "      <th>year</th>\n",
       "      <th>leaid</th>\n",
       "      <th>lea_name</th>\n",
       "      <th>state_leaid</th>\n",
       "      <th>state_location</th>\n",
       "      <th>zip_location</th>\n",
       "      <th>fips</th>\n",
       "      <th>county_code</th>\n",
       "      <th>county_name</th>\n",
       "      <th>latitude</th>\n",
       "      <th>...</th>\n",
       "      <th>math_test_pct_prof_midpt</th>\n",
       "      <th>grade</th>\n",
       "      <th>enrollment</th>\n",
       "      <th>censusid</th>\n",
       "      <th>rev_total</th>\n",
       "      <th>exp_total</th>\n",
       "      <th>exp_current_instruction_total</th>\n",
       "      <th>enrollment_fall_responsible</th>\n",
       "      <th>total_spend_per_student</th>\n",
       "      <th>instruction_spend_per_student</th>\n",
       "    </tr>\n",
       "  </thead>\n",
       "  <tbody>\n",
       "    <tr>\n",
       "      <th>0</th>\n",
       "      <td>2009</td>\n",
       "      <td>1703870</td>\n",
       "      <td>CHSD 117</td>\n",
       "      <td>34-049-1170-16</td>\n",
       "      <td>IL</td>\n",
       "      <td>60046.0</td>\n",
       "      <td>17.0</td>\n",
       "      <td>17097.0</td>\n",
       "      <td>LAKE COUNTY</td>\n",
       "      <td>42.445301</td>\n",
       "      <td>...</td>\n",
       "      <td>57.0</td>\n",
       "      <td>7</td>\n",
       "      <td>0.0</td>\n",
       "      <td>1.450490e+13</td>\n",
       "      <td>51238000.0</td>\n",
       "      <td>46048000.0</td>\n",
       "      <td>24681000.0</td>\n",
       "      <td>2852.0</td>\n",
       "      <td>16145.862553</td>\n",
       "      <td>8653.927069</td>\n",
       "    </tr>\n",
       "    <tr>\n",
       "      <th>1</th>\n",
       "      <td>2009</td>\n",
       "      <td>1703870</td>\n",
       "      <td>CHSD 117</td>\n",
       "      <td>34-049-1170-16</td>\n",
       "      <td>IL</td>\n",
       "      <td>60046.0</td>\n",
       "      <td>17.0</td>\n",
       "      <td>17097.0</td>\n",
       "      <td>LAKE COUNTY</td>\n",
       "      <td>42.445301</td>\n",
       "      <td>...</td>\n",
       "      <td>57.0</td>\n",
       "      <td>8</td>\n",
       "      <td>1.0</td>\n",
       "      <td>1.450490e+13</td>\n",
       "      <td>51238000.0</td>\n",
       "      <td>46048000.0</td>\n",
       "      <td>24681000.0</td>\n",
       "      <td>2852.0</td>\n",
       "      <td>16145.862553</td>\n",
       "      <td>8653.927069</td>\n",
       "    </tr>\n",
       "    <tr>\n",
       "      <th>2</th>\n",
       "      <td>2009</td>\n",
       "      <td>1703870</td>\n",
       "      <td>CHSD 117</td>\n",
       "      <td>34-049-1170-16</td>\n",
       "      <td>IL</td>\n",
       "      <td>60046.0</td>\n",
       "      <td>17.0</td>\n",
       "      <td>17097.0</td>\n",
       "      <td>LAKE COUNTY</td>\n",
       "      <td>42.445301</td>\n",
       "      <td>...</td>\n",
       "      <td>57.0</td>\n",
       "      <td>9</td>\n",
       "      <td>748.0</td>\n",
       "      <td>1.450490e+13</td>\n",
       "      <td>51238000.0</td>\n",
       "      <td>46048000.0</td>\n",
       "      <td>24681000.0</td>\n",
       "      <td>2852.0</td>\n",
       "      <td>16145.862553</td>\n",
       "      <td>8653.927069</td>\n",
       "    </tr>\n",
       "    <tr>\n",
       "      <th>3</th>\n",
       "      <td>2009</td>\n",
       "      <td>1703870</td>\n",
       "      <td>CHSD 117</td>\n",
       "      <td>34-049-1170-16</td>\n",
       "      <td>IL</td>\n",
       "      <td>60046.0</td>\n",
       "      <td>17.0</td>\n",
       "      <td>17097.0</td>\n",
       "      <td>LAKE COUNTY</td>\n",
       "      <td>42.445301</td>\n",
       "      <td>...</td>\n",
       "      <td>57.0</td>\n",
       "      <td>10</td>\n",
       "      <td>714.0</td>\n",
       "      <td>1.450490e+13</td>\n",
       "      <td>51238000.0</td>\n",
       "      <td>46048000.0</td>\n",
       "      <td>24681000.0</td>\n",
       "      <td>2852.0</td>\n",
       "      <td>16145.862553</td>\n",
       "      <td>8653.927069</td>\n",
       "    </tr>\n",
       "    <tr>\n",
       "      <th>4</th>\n",
       "      <td>2009</td>\n",
       "      <td>1703870</td>\n",
       "      <td>CHSD 117</td>\n",
       "      <td>34-049-1170-16</td>\n",
       "      <td>IL</td>\n",
       "      <td>60046.0</td>\n",
       "      <td>17.0</td>\n",
       "      <td>17097.0</td>\n",
       "      <td>LAKE COUNTY</td>\n",
       "      <td>42.445301</td>\n",
       "      <td>...</td>\n",
       "      <td>57.0</td>\n",
       "      <td>11</td>\n",
       "      <td>700.0</td>\n",
       "      <td>1.450490e+13</td>\n",
       "      <td>51238000.0</td>\n",
       "      <td>46048000.0</td>\n",
       "      <td>24681000.0</td>\n",
       "      <td>2852.0</td>\n",
       "      <td>16145.862553</td>\n",
       "      <td>8653.927069</td>\n",
       "    </tr>\n",
       "  </tbody>\n",
       "</table>\n",
       "<p>5 rows × 40 columns</p>\n",
       "</div>"
      ],
      "text/plain": [
       "   year    leaid  lea_name     state_leaid state_location  zip_location  fips  \\\n",
       "0  2009  1703870  CHSD 117  34-049-1170-16             IL       60046.0  17.0   \n",
       "1  2009  1703870  CHSD 117  34-049-1170-16             IL       60046.0  17.0   \n",
       "2  2009  1703870  CHSD 117  34-049-1170-16             IL       60046.0  17.0   \n",
       "3  2009  1703870  CHSD 117  34-049-1170-16             IL       60046.0  17.0   \n",
       "4  2009  1703870  CHSD 117  34-049-1170-16             IL       60046.0  17.0   \n",
       "\n",
       "   county_code  county_name   latitude  ...  math_test_pct_prof_midpt  grade  \\\n",
       "0      17097.0  LAKE COUNTY  42.445301  ...                      57.0      7   \n",
       "1      17097.0  LAKE COUNTY  42.445301  ...                      57.0      8   \n",
       "2      17097.0  LAKE COUNTY  42.445301  ...                      57.0      9   \n",
       "3      17097.0  LAKE COUNTY  42.445301  ...                      57.0     10   \n",
       "4      17097.0  LAKE COUNTY  42.445301  ...                      57.0     11   \n",
       "\n",
       "   enrollment      censusid   rev_total   exp_total  \\\n",
       "0         0.0  1.450490e+13  51238000.0  46048000.0   \n",
       "1         1.0  1.450490e+13  51238000.0  46048000.0   \n",
       "2       748.0  1.450490e+13  51238000.0  46048000.0   \n",
       "3       714.0  1.450490e+13  51238000.0  46048000.0   \n",
       "4       700.0  1.450490e+13  51238000.0  46048000.0   \n",
       "\n",
       "   exp_current_instruction_total  enrollment_fall_responsible  \\\n",
       "0                     24681000.0                       2852.0   \n",
       "1                     24681000.0                       2852.0   \n",
       "2                     24681000.0                       2852.0   \n",
       "3                     24681000.0                       2852.0   \n",
       "4                     24681000.0                       2852.0   \n",
       "\n",
       "   total_spend_per_student  instruction_spend_per_student  \n",
       "0             16145.862553                    8653.927069  \n",
       "1             16145.862553                    8653.927069  \n",
       "2             16145.862553                    8653.927069  \n",
       "3             16145.862553                    8653.927069  \n",
       "4             16145.862553                    8653.927069  \n",
       "\n",
       "[5 rows x 40 columns]"
      ]
     },
     "execution_count": 21,
     "metadata": {},
     "output_type": "execute_result"
    }
   ],
   "source": [
    "master_df_cleaned = master_df.dropna()\n",
    "\n",
    "def cleanup_data(dataframe):\n",
    "    \"\"\"Clean up dataframe returns a dataframe\"\"\"\n",
    "    \n",
    "    numerical_columns = ['grade_edfacts', 'race', 'sex', 'lep', \n",
    "                         'homeless', 'migrant', 'disability', \n",
    "                         'econ_disadvantaged', 'foster_care', \n",
    "                         'military_connected', 'read_test_num_valid',\n",
    "                         'read_test_pct_prof_low', 'read_test_pct_prof_high',\n",
    "                         'read_test_pct_prof_midpt', 'math_test_num_valid', \n",
    "                         'math_test_pct_prof_low', 'math_test_pct_prof_high', \n",
    "                         'math_test_pct_prof_midpt', 'grade', 'enrollment', \"instruction_spend_per_student\" , \"total_spend_per_student\"]\n",
    "    \n",
    "    \n",
    "    # We only want to keep positive numbers\n",
    "    for column_name in numerical_columns:\n",
    "        dataframe =  dataframe[(dataframe[column_name] >= 0) ]\n",
    "        \n",
    "    # Remove outliers for instructional total   \n",
    "    #dataframe[dataframe['exp_current_instruction_total'] < float('1.646168e+09')]    \n",
    "    \n",
    "    # Only include districts with more than 100 students \n",
    "    #dataframe = dataframe[dataframe['enrollment_fall_responsible'] > 50]\n",
    "    \n",
    "    return dataframe\n",
    "\n",
    "cleaned_df = cleanup_data(master_df_cleaned)\n",
    "cleaned_df.head()"
   ]
  },
  {
   "cell_type": "markdown",
   "metadata": {},
   "source": [
    "# Box Plot\n",
    "## Differences between sexes in reading proficiency"
   ]
  },
  {
   "cell_type": "code",
   "execution_count": 26,
   "metadata": {},
   "outputs": [],
   "source": [
    "#dataframes for key grades\n",
    "grade_12_df = cleaned_df[cleaned_df['grade'] == 12]\n",
    "grade_8_df = cleaned_df[cleaned_df['grade'] == 8]\n",
    "grade_3_df = cleaned_df[cleaned_df['grade'] == 3]"
   ]
  },
  {
   "cell_type": "markdown",
   "metadata": {},
   "source": [
    "Boxplot Percentage Range of Students All Grades That Scored at Midpoint Reading Proficiency by Gender"
   ]
  },
  {
   "cell_type": "code",
   "execution_count": 97,
   "metadata": {},
   "outputs": [
    {
     "data": {
      "text/plain": [
       "Text(0.5, 1.0, 'Percentage Range of Students All Grades That Scored at Midpoint Reading Proficiency by Gender')"
      ]
     },
     "execution_count": 97,
     "metadata": {},
     "output_type": "execute_result"
    },
    {
     "data": {
      "image/png": "[encoded data removed]",
      "text/plain": [
       "<Figure size 1080x720 with 1 Axes>"
      ]
     },
     "metadata": {},
     "output_type": "display_data"
    }
   ],
   "source": [
    "x=cleaned_df['sex'].map({1: 'Male', 2:'Female', 99: 'All'})\n",
    "plt.figure(figsize=(15, 10))\n",
    "plot = sns.boxplot(x, y = cleaned_df['read_test_pct_prof_midpt']) \n",
    "plt.title(\"Percentage Range of Students All Grades That Scored at Midpoint Reading Proficiency by Gender\")\n",
    "# 1 is male \n",
    "# 2 is female\n",
    "# 99 is Total "
   ]
  },
  {
   "cell_type": "markdown",
   "metadata": {},
   "source": [
    "For grade 12"
   ]
  },
  {
   "cell_type": "code",
   "execution_count": 98,
   "metadata": {},
   "outputs": [
    {
     "data": {
      "text/plain": [
       "Text(0.5, 1.0, 'Percentage Range of Students Grade 12 That Scored at Midpoint Reading Proficiency by Gender')"
      ]
     },
     "execution_count": 98,
     "metadata": {},
     "output_type": "execute_result"
    },
    {
     "data": {
      "image/png": "[encoded data removed]",
      "text/plain": [
       "<Figure size 1080x720 with 1 Axes>"
      ]
     },
     "metadata": {},
     "output_type": "display_data"
    }
   ],
   "source": [
    "x=grade_12_df['sex'].map({1: 'Male', 2:'Female', 99: 'All'})\n",
    "plt.figure(figsize=(15, 10))\n",
    "sns.boxplot(x, y = grade_12_df['read_test_pct_prof_midpt']) \n",
    "plt.title(\"Percentage Range of Students Grade 12 That Scored at Midpoint Reading Proficiency by Gender\")\n",
    "# 1 is male \n",
    "# 2 is female\n",
    "# 99 is Total "
   ]
  },
  {
   "cell_type": "code",
   "execution_count": 58,
   "metadata": {},
   "outputs": [
    {
     "data": {
      "text/plain": [
       "Text(0.5, 1.0, 'Percentage Range of Students Grade 8 That Scored at Midpoint Reading Proficiency by Gender')"
      ]
     },
     "execution_count": 58,
     "metadata": {},
     "output_type": "execute_result"
    },
    {
     "data": {
      "image/png": "[encoded data removed]",
      "text/plain": [
       "<Figure size 2160x1440 with 1 Axes>"
      ]
     },
     "metadata": {
      "needs_background": "light"
     },
     "output_type": "display_data"
    }
   ],
   "source": [
    "# for grade 8\n",
    "x=grade_8_df['sex'].map({1: 'Male', 2:'Female', 99: 'All'})\n",
    "plt.figure(figsize=(30, 20))\n",
    "sns.boxplot(x, y = grade_8_df['read_test_pct_prof_midpt']) \n",
    "plt.title(\"Percentage Range of Students Grade 8 That Scored at Midpoint Reading Proficiency by Gender\")\n",
    "# 1 is male \n",
    "# 2 is female\n",
    "# 99 is Total "
   ]
  },
  {
   "cell_type": "code",
   "execution_count": 59,
   "metadata": {},
   "outputs": [
    {
     "data": {
      "text/plain": [
       "Text(0.5, 1.0, 'Percentage Range of Students Grade 3 That Scored at Midpoint Reading Proficiency by Gender')"
      ]
     },
     "execution_count": 59,
     "metadata": {},
     "output_type": "execute_result"
    },
    {
     "data": {
      "image/png": "[encoded data removed]",
      "text/plain": [
       "<Figure size 2160x1440 with 1 Axes>"
      ]
     },
     "metadata": {
      "needs_background": "light"
     },
     "output_type": "display_data"
    }
   ],
   "source": [
    "# for grade 3\n",
    "x=grade_3_df['sex'].map({1: 'Male', 2:'Female', 99: 'All'})\n",
    "plt.figure(figsize=(30, 20))\n",
    "sns.boxplot(x, y = grade_3_df['read_test_pct_prof_midpt']) \n",
    "plt.title(\"Percentage Range of Students Grade 3 That Scored at Midpoint Reading Proficiency by Gender\")\n",
    "# 1 is male \n",
    "# 2 is female\n",
    "# 99 is Total "
   ]
  },
  {
   "cell_type": "markdown",
   "metadata": {},
   "source": [
    "## Differences between Races in reading proficiency"
   ]
  },
  {
   "cell_type": "code",
   "execution_count": null,
   "metadata": {},
   "outputs": [],
   "source": [
    "#dataframes for key grades\n",
    "grade_12_race_df = cleaned_df[cleaned_df['grade'] == 12]\n",
    "grade_8_race_df = cleaned_df[cleaned_df['grade'] == 8]\n",
    "grade_3_race_df = cleaned_df[cleaned_df['grade'] == 3]"
   ]
  },
  {
   "cell_type": "code",
   "execution_count": 100,
   "metadata": {},
   "outputs": [
    {
     "data": {
      "text/plain": [
       "'\"\"\\n1—White\\n2—Black\\n3—Hispanic\\n4—Asian\\n5—American Indian or Alaska Native\\n6—Native Hawaiian or other Pacific Islander\\n7—Two or more races\\n8—Nonresident alien\\n9—Unknown\\n20—Other\\n99—Total\\n'"
      ]
     },
     "execution_count": 100,
     "metadata": {},
     "output_type": "execute_result"
    },
    {
     "data": {
      "image/png": "[encoded data removed]",
      "text/plain": [
       "<Figure size 1080x720 with 1 Axes>"
      ]
     },
     "metadata": {},
     "output_type": "display_data"
    }
   ],
   "source": [
    "#For all races\n",
    "x=cleaned_df['race'].map({1: 'White', 2: 'Black', 3: 'Hispanic', 4:'Asian', 5:'Am. In or AK Native', \n",
    "                          6:'Pacific Islander', 7: 'Two+ races', 8: 'Nonresident alien',\n",
    "                          9: 'Unknown', 20:'Other', 99: 'All'})\n",
    "plt.figure(figsize=(15, 10))\n",
    "sns.boxplot(x, y = cleaned_df['read_test_pct_prof_midpt']) \n",
    "plt.title(\"Percentage Range of Students All Grades That Scored at Midpoint Reading Proficiency by Race\");\n",
    "\"\"\"\"\"\n",
    "1—White\n",
    "2—Black\n",
    "3—Hispanic\n",
    "4—Asian\n",
    "5—American Indian or Alaska Native\n",
    "6—Native Hawaiian or other Pacific Islander\n",
    "7—Two or more races\n",
    "8—Nonresident alien\n",
    "9—Unknown\n",
    "20—Other\n",
    "99—Total\n",
    "\"\"\"\"\""
   ]
  },
  {
   "cell_type": "code",
   "execution_count": 117,
   "metadata": {},
   "outputs": [
    {
     "name": "stdout",
     "output_type": "stream",
     "text": [
      "Reading Test are the Same for Male and females\n",
      "t = -441.35605176208924\n",
      "p = 0.0\n"
     ]
    }
   ],
   "source": [
    "# T-test Male and females \n",
    "\n",
    "#https://www.statisticshowto.datasciencecentral.com/probability-and-statistics/t-test/\n",
    "from   scipy import stats\n",
    "\n",
    "## A simple t test for difference of means\n",
    "t2, p2 = stats.ttest_ind(cleaned_df.loc[cleaned_df['sex'] == 1, 'read_test_pct_prof_midpt']\n",
    "                         ,cleaned_df.loc[cleaned_df['sex'] == 2, 'read_test_pct_prof_midpt'])\n",
    "\n",
    "print(\"Reading Test are the Same for Male and females\")\n",
    "print(\"t = \" + str(t2))\n",
    "print(\"p = \" + str(p2))\n"
   ]
  },
  {
   "cell_type": "code",
   "execution_count": 118,
   "metadata": {},
   "outputs": [
    {
     "name": "stdout",
     "output_type": "stream",
     "text": [
      "Reading Test are the Same for Male and females\n",
      "t = 668.0140337816666\n",
      "p = 0.0\n"
     ]
    }
   ],
   "source": [
    "# T-test Male and females \n",
    "\n",
    "#https://www.statisticshowto.datasciencecentral.com/probability-and-statistics/t-test/\n",
    "from   scipy import stats\n",
    "\n",
    "## A simple t test for difference of means\n",
    "t2, p2 = stats.ttest_ind(cleaned_df.loc[cleaned_df['race'] == 1, 'read_test_pct_prof_midpt'],\n",
    "                         cleaned_df.loc[cleaned_df['race'] == 99, 'read_test_pct_prof_midpt'])\n",
    "\n",
    "print(\"Reading Test are the Same for Male and females\")\n",
    "print(\"t = \" + str(t2))\n",
    "print(\"p = \" + str(p2))\n"
   ]
  },
  {
   "cell_type": "code",
   "execution_count": 123,
   "metadata": {},
   "outputs": [
    {
     "name": "stdout",
     "output_type": "stream",
     "text": [
      "Instructional Spend is the Same for White vs Non-White Students\n",
      "t = -643.7548977593115\n",
      "p = 0.0\n"
     ]
    }
   ],
   "source": [
    "# T-test Instructional Spend and Race\n",
    "\n",
    "#https://www.statisticshowto.datasciencecentral.com/probability-and-statistics/t-test/\n",
    "from   scipy import stats\n",
    "\n",
    "#t test for difference of means\n",
    "t2, p2 = stats.ttest_ind(cleaned_df.loc[cleaned_df['race'] != 1, 'read_test_pct_prof_midpt'],\n",
    "                         cleaned_df.loc[cleaned_df['race'] == 1, 'read_test_pct_prof_midpt'])\n",
    "\n",
    "print(\"Instructional Spend is the Same for White vs Non-White Students\")\n",
    "print(\"t = \" + str(t2))\n",
    "print(\"p = \" + str(p2))\n"
   ]
  },
  {
   "cell_type": "code",
   "execution_count": 121,
   "metadata": {},
   "outputs": [
    {
     "name": "stdout",
     "output_type": "stream",
     "text": [
      "Reading Test are the Same for Male and females\n",
      "t = 158.32779501859522\n",
      "p = 0.0\n"
     ]
    }
   ],
   "source": [
    "# T-test Instructional Spend and Race\n",
    "\n",
    "#https://www.statisticshowto.datasciencecentral.com/probability-and-statistics/t-test/\n",
    "from   scipy import stats\n",
    "\n",
    "#t test for difference of means\n",
    "t2, p2 = stats.ttest_ind(cleaned_df.loc[cleaned_df['race'] != 1, 'exp_current_instruction_total'],\n",
    "                         cleaned_df.loc[cleaned_df['race'] == 1, 'exp_current_instruction_total'])\n",
    "\n",
    "print(\"Reading Test are the Same for Male and females\")\n",
    "print(\"t = \" + str(t2))\n",
    "print(\"p = \" + str(p2))\n"
   ]
  },
  {
   "cell_type": "code",
   "execution_count": 120,
   "metadata": {},
   "outputs": [
    {
     "data": {
      "image/png": "[encoded data removed]",
      "text/plain": [
       "<Figure size 2160x1440 with 1 Axes>"
      ]
     },
     "metadata": {},
     "output_type": "display_data"
    }
   ],
   "source": [
    "# Instructional Spend Box Plot\n",
    "x=cleaned_df['race'].map({1: 'White', 2: 'Black', 3: 'Hispanic', 4:'Asian', 5:'Am. In or AK Native', \n",
    "                          6:'Pacific Islander', 7: 'Two+ races', 8: 'Nonresident alien',\n",
    "                          9: 'Unknown', 20:'Other', 99: 'All'})\n",
    "sns.boxplot(x, y= cleaned_df['instruction_spend_per_student']) \n",
    "plt.title(\"Instruction Spend per Student vs Race\");\n"
   ]
  },
  {
   "cell_type": "markdown",
   "metadata": {},
   "source": [
    "## Correlation matrix\n",
    "\n",
    "To find the variables that have the greatest influence on read_test_pct_prof_midpt, we can compute a <b>correlation matrix</b> which measures the pairwise correlations between any two variables:"
   ]
  },
  {
   "cell_type": "code",
   "execution_count": 124,
   "metadata": {},
   "outputs": [
    {
     "data": {
      "text/html": [
       "<div>\n",
       "<style scoped>\n",
       "    .dataframe tbody tr th:only-of-type {\n",
       "        vertical-align: middle;\n",
       "    }\n",
       "\n",
       "    .dataframe tbody tr th {\n",
       "        vertical-align: top;\n",
       "    }\n",
       "\n",
       "    .dataframe thead th {\n",
       "        text-align: right;\n",
       "    }\n",
       "</style>\n",
       "<table border=\"1\" class=\"dataframe\">\n",
       "  <thead>\n",
       "    <tr style=\"text-align: right;\">\n",
       "      <th></th>\n",
       "      <th>total_spend_per_student</th>\n",
       "      <th>instruction_spend_per_student</th>\n",
       "      <th>sex</th>\n",
       "      <th>lep</th>\n",
       "      <th>homeless</th>\n",
       "      <th>migrant</th>\n",
       "      <th>disability</th>\n",
       "      <th>econ_disadvantaged</th>\n",
       "    </tr>\n",
       "  </thead>\n",
       "  <tbody>\n",
       "    <tr>\n",
       "      <th>total_spend_per_student</th>\n",
       "      <td>1.000000</td>\n",
       "      <td>0.792752</td>\n",
       "      <td>-0.008312</td>\n",
       "      <td>0.015711</td>\n",
       "      <td>0.019019</td>\n",
       "      <td>0.013641</td>\n",
       "      <td>0.007781</td>\n",
       "      <td>0.000463</td>\n",
       "    </tr>\n",
       "    <tr>\n",
       "      <th>instruction_spend_per_student</th>\n",
       "      <td>0.792752</td>\n",
       "      <td>1.000000</td>\n",
       "      <td>-0.005317</td>\n",
       "      <td>0.018471</td>\n",
       "      <td>0.019463</td>\n",
       "      <td>0.014721</td>\n",
       "      <td>-0.000760</td>\n",
       "      <td>0.001455</td>\n",
       "    </tr>\n",
       "    <tr>\n",
       "      <th>sex</th>\n",
       "      <td>-0.008312</td>\n",
       "      <td>-0.005317</td>\n",
       "      <td>1.000000</td>\n",
       "      <td>-0.115192</td>\n",
       "      <td>-0.085455</td>\n",
       "      <td>-0.042787</td>\n",
       "      <td>-0.195814</td>\n",
       "      <td>-0.229672</td>\n",
       "    </tr>\n",
       "    <tr>\n",
       "      <th>lep</th>\n",
       "      <td>0.015711</td>\n",
       "      <td>0.018471</td>\n",
       "      <td>-0.115192</td>\n",
       "      <td>1.000000</td>\n",
       "      <td>-0.027633</td>\n",
       "      <td>-0.013836</td>\n",
       "      <td>-0.063320</td>\n",
       "      <td>-0.074268</td>\n",
       "    </tr>\n",
       "    <tr>\n",
       "      <th>homeless</th>\n",
       "      <td>0.019019</td>\n",
       "      <td>0.019463</td>\n",
       "      <td>-0.085455</td>\n",
       "      <td>-0.027633</td>\n",
       "      <td>1.000000</td>\n",
       "      <td>-0.010264</td>\n",
       "      <td>-0.046973</td>\n",
       "      <td>-0.055095</td>\n",
       "    </tr>\n",
       "    <tr>\n",
       "      <th>migrant</th>\n",
       "      <td>0.013641</td>\n",
       "      <td>0.014721</td>\n",
       "      <td>-0.042787</td>\n",
       "      <td>-0.013836</td>\n",
       "      <td>-0.010264</td>\n",
       "      <td>1.000000</td>\n",
       "      <td>-0.023520</td>\n",
       "      <td>-0.027586</td>\n",
       "    </tr>\n",
       "    <tr>\n",
       "      <th>disability</th>\n",
       "      <td>0.007781</td>\n",
       "      <td>-0.000760</td>\n",
       "      <td>-0.195814</td>\n",
       "      <td>-0.063320</td>\n",
       "      <td>-0.046973</td>\n",
       "      <td>-0.023520</td>\n",
       "      <td>1.000000</td>\n",
       "      <td>-0.126248</td>\n",
       "    </tr>\n",
       "    <tr>\n",
       "      <th>econ_disadvantaged</th>\n",
       "      <td>0.000463</td>\n",
       "      <td>0.001455</td>\n",
       "      <td>-0.229672</td>\n",
       "      <td>-0.074268</td>\n",
       "      <td>-0.055095</td>\n",
       "      <td>-0.027586</td>\n",
       "      <td>-0.126248</td>\n",
       "      <td>1.000000</td>\n",
       "    </tr>\n",
       "  </tbody>\n",
       "</table>\n",
       "</div>"
      ],
      "text/plain": [
       "                               total_spend_per_student  \\\n",
       "total_spend_per_student                       1.000000   \n",
       "instruction_spend_per_student                 0.792752   \n",
       "sex                                          -0.008312   \n",
       "lep                                           0.015711   \n",
       "homeless                                      0.019019   \n",
       "migrant                                       0.013641   \n",
       "disability                                    0.007781   \n",
       "econ_disadvantaged                            0.000463   \n",
       "\n",
       "                               instruction_spend_per_student       sex  \\\n",
       "total_spend_per_student                             0.792752 -0.008312   \n",
       "instruction_spend_per_student                       1.000000 -0.005317   \n",
       "sex                                                -0.005317  1.000000   \n",
       "lep                                                 0.018471 -0.115192   \n",
       "homeless                                            0.019463 -0.085455   \n",
       "migrant                                             0.014721 -0.042787   \n",
       "disability                                         -0.000760 -0.195814   \n",
       "econ_disadvantaged                                  0.001455 -0.229672   \n",
       "\n",
       "                                    lep  homeless   migrant  disability  \\\n",
       "total_spend_per_student        0.015711  0.019019  0.013641    0.007781   \n",
       "instruction_spend_per_student  0.018471  0.019463  0.014721   -0.000760   \n",
       "sex                           -0.115192 -0.085455 -0.042787   -0.195814   \n",
       "lep                            1.000000 -0.027633 -0.013836   -0.063320   \n",
       "homeless                      -0.027633  1.000000 -0.010264   -0.046973   \n",
       "migrant                       -0.013836 -0.010264  1.000000   -0.023520   \n",
       "disability                    -0.063320 -0.046973 -0.023520    1.000000   \n",
       "econ_disadvantaged            -0.074268 -0.055095 -0.027586   -0.126248   \n",
       "\n",
       "                               econ_disadvantaged  \n",
       "total_spend_per_student                  0.000463  \n",
       "instruction_spend_per_student            0.001455  \n",
       "sex                                     -0.229672  \n",
       "lep                                     -0.074268  \n",
       "homeless                                -0.055095  \n",
       "migrant                                 -0.027586  \n",
       "disability                              -0.126248  \n",
       "econ_disadvantaged                       1.000000  "
      ]
     },
     "execution_count": 124,
     "metadata": {},
     "output_type": "execute_result"
    }
   ],
   "source": [
    "corr_mat  = cleaned_df[[ \"total_spend_per_student\", \"instruction_spend_per_student\", 'sex', 'lep', 'homeless', 'migrant', \n",
    "                        'disability', 'econ_disadvantaged']].corr()\n",
    "corr_mat"
   ]
  },
  {
   "cell_type": "code",
   "execution_count": 125,
   "metadata": {},
   "outputs": [
    {
     "data": {
      "text/plain": [
       "Text(0.5, 1.0, 'Correlation Matrix')"
      ]
     },
     "execution_count": 125,
     "metadata": {},
     "output_type": "execute_result"
    },
    {
     "data": {
      "image/png": "[encoded data removed]",
      "text/plain": [
       "<Figure size 2160x1440 with 2 Axes>"
      ]
     },
     "metadata": {},
     "output_type": "display_data"
    }
   ],
   "source": [
    "sns.heatmap(corr_mat,cmap=sns.diverging_palette(220, 10, as_cmap=True))\n",
    "plt.title(\"Correlation Matrix\")"
   ]
  },
  {
   "cell_type": "markdown",
   "metadata": {},
   "source": [
    "## Using linear models to account for variables correlated with reading proficiency\n",
    "\n",
    "Once we identify some independent variables that are correlated with the dependent variable, a linear model can be used to capture this relationship quantitatively. A linear model does this by finding a line that [**best fits**](https://mathbits.com/MathBits/TISection/Statistics1/LineFit.htm) the data points:"
   ]
  },
  {
   "cell_type": "code",
   "execution_count": 126,
   "metadata": {},
   "outputs": [
    {
     "data": {
      "text/plain": [
       "Text(4.585000000000001, 0.5, 'read_test_pct_prof_midpt')"
      ]
     },
     "execution_count": 126,
     "metadata": {},
     "output_type": "execute_result"
    },
    {
     "data": {
      "image/png": "[encoded data removed]",
      "text/plain": [
       "<Figure size 360x360 with 1 Axes>"
      ]
     },
     "metadata": {},
     "output_type": "display_data"
    }
   ],
   "source": [
    "sns.lmplot(x = 'instruction_spend_per_student', y = 'read_test_pct_prof_midpt', data = cleaned_df, scatter_kws = {'color': (174/255,199/255,14/255)})\n",
    "plt.title(\"instruction_spend_per_student vs. read_test_pct_prof_midpt\", fontsize=20, verticalalignment='bottom')\n",
    "plt.xlabel(\"instruction_spend_per_student\")\n",
    "plt.ylabel(\"read_test_pct_prof_midpt\")"
   ]
  },
  {
   "cell_type": "markdown",
   "metadata": {},
   "source": [
    "## OLS Model for Reading proficiency only Grade 12"
   ]
  },
  {
   "cell_type": "code",
   "execution_count": 128,
   "metadata": {},
   "outputs": [
    {
     "ename": "MissingDataError",
     "evalue": "exog contains inf or nans",
     "output_type": "error",
     "traceback": [
      "\u001b[0;31m---------------------------------------------------------------------------\u001b[0m",
      "\u001b[0;31mMissingDataError\u001b[0m                          Traceback (most recent call last)",
      "\u001b[0;32m<ipython-input-128-5d901a748d7c>\u001b[0m in \u001b[0;36m<module>\u001b[0;34m\u001b[0m\n\u001b[1;32m      3\u001b[0m \u001b[0my\u001b[0m \u001b[0;34m=\u001b[0m \u001b[0mgrade_12_df\u001b[0m\u001b[0;34m[\u001b[0m\u001b[0;34m'read_test_pct_prof_midpt'\u001b[0m\u001b[0;34m]\u001b[0m\u001b[0;34m\u001b[0m\u001b[0;34m\u001b[0m\u001b[0m\n\u001b[1;32m      4\u001b[0m \u001b[0mx\u001b[0m \u001b[0;34m=\u001b[0m \u001b[0msm\u001b[0m\u001b[0;34m.\u001b[0m\u001b[0madd_constant\u001b[0m\u001b[0;34m(\u001b[0m\u001b[0mx\u001b[0m\u001b[0;34m)\u001b[0m\u001b[0;34m\u001b[0m\u001b[0;34m\u001b[0m\u001b[0m\n\u001b[0;32m----> 5\u001b[0;31m \u001b[0mest\u001b[0m \u001b[0;34m=\u001b[0m \u001b[0msm\u001b[0m\u001b[0;34m.\u001b[0m\u001b[0mOLS\u001b[0m\u001b[0;34m(\u001b[0m\u001b[0my\u001b[0m\u001b[0;34m,\u001b[0m \u001b[0mx\u001b[0m\u001b[0;34m)\u001b[0m\u001b[0;34m.\u001b[0m\u001b[0mfit\u001b[0m\u001b[0;34m(\u001b[0m\u001b[0;34m)\u001b[0m\u001b[0;34m\u001b[0m\u001b[0;34m\u001b[0m\u001b[0m\n\u001b[0m\u001b[1;32m      6\u001b[0m \u001b[0mest\u001b[0m\u001b[0;34m.\u001b[0m\u001b[0msummary\u001b[0m\u001b[0;34m(\u001b[0m\u001b[0;34m)\u001b[0m\u001b[0;34m\u001b[0m\u001b[0;34m\u001b[0m\u001b[0m\n",
      "\u001b[0;32m~/Library/Python/3.8/lib/python/site-packages/statsmodels/regression/linear_model.py\u001b[0m in \u001b[0;36m__init__\u001b[0;34m(self, endog, exog, missing, hasconst, **kwargs)\u001b[0m\n\u001b[1;32m    870\u001b[0m     def __init__(self, endog, exog=None, missing='none', hasconst=None,\n\u001b[1;32m    871\u001b[0m                  **kwargs):\n\u001b[0;32m--> 872\u001b[0;31m         super(OLS, self).__init__(endog, exog, missing=missing,\n\u001b[0m\u001b[1;32m    873\u001b[0m                                   hasconst=hasconst, **kwargs)\n\u001b[1;32m    874\u001b[0m         \u001b[0;32mif\u001b[0m \u001b[0;34m\"weights\"\u001b[0m \u001b[0;32min\u001b[0m \u001b[0mself\u001b[0m\u001b[0;34m.\u001b[0m\u001b[0m_init_keys\u001b[0m\u001b[0;34m:\u001b[0m\u001b[0;34m\u001b[0m\u001b[0;34m\u001b[0m\u001b[0m\n",
      "\u001b[0;32m~/Library/Python/3.8/lib/python/site-packages/statsmodels/regression/linear_model.py\u001b[0m in \u001b[0;36m__init__\u001b[0;34m(self, endog, exog, weights, missing, hasconst, **kwargs)\u001b[0m\n\u001b[1;32m    701\u001b[0m         \u001b[0;32melse\u001b[0m\u001b[0;34m:\u001b[0m\u001b[0;34m\u001b[0m\u001b[0;34m\u001b[0m\u001b[0m\n\u001b[1;32m    702\u001b[0m             \u001b[0mweights\u001b[0m \u001b[0;34m=\u001b[0m \u001b[0mweights\u001b[0m\u001b[0;34m.\u001b[0m\u001b[0msqueeze\u001b[0m\u001b[0;34m(\u001b[0m\u001b[0;34m)\u001b[0m\u001b[0;34m\u001b[0m\u001b[0;34m\u001b[0m\u001b[0m\n\u001b[0;32m--> 703\u001b[0;31m         super(WLS, self).__init__(endog, exog, missing=missing,\n\u001b[0m\u001b[1;32m    704\u001b[0m                                   weights=weights, hasconst=hasconst, **kwargs)\n\u001b[1;32m    705\u001b[0m         \u001b[0mnobs\u001b[0m \u001b[0;34m=\u001b[0m \u001b[0mself\u001b[0m\u001b[0;34m.\u001b[0m\u001b[0mexog\u001b[0m\u001b[0;34m.\u001b[0m\u001b[0mshape\u001b[0m\u001b[0;34m[\u001b[0m\u001b[0;36m0\u001b[0m\u001b[0;34m]\u001b[0m\u001b[0;34m\u001b[0m\u001b[0;34m\u001b[0m\u001b[0m\n",
      "\u001b[0;32m~/Library/Python/3.8/lib/python/site-packages/statsmodels/regression/linear_model.py\u001b[0m in \u001b[0;36m__init__\u001b[0;34m(self, endog, exog, **kwargs)\u001b[0m\n\u001b[1;32m    188\u001b[0m     \"\"\"\n\u001b[1;32m    189\u001b[0m     \u001b[0;32mdef\u001b[0m \u001b[0m__init__\u001b[0m\u001b[0;34m(\u001b[0m\u001b[0mself\u001b[0m\u001b[0;34m,\u001b[0m \u001b[0mendog\u001b[0m\u001b[0;34m,\u001b[0m \u001b[0mexog\u001b[0m\u001b[0;34m,\u001b[0m \u001b[0;34m**\u001b[0m\u001b[0mkwargs\u001b[0m\u001b[0;34m)\u001b[0m\u001b[0;34m:\u001b[0m\u001b[0;34m\u001b[0m\u001b[0;34m\u001b[0m\u001b[0m\n\u001b[0;32m--> 190\u001b[0;31m         \u001b[0msuper\u001b[0m\u001b[0;34m(\u001b[0m\u001b[0mRegressionModel\u001b[0m\u001b[0;34m,\u001b[0m \u001b[0mself\u001b[0m\u001b[0;34m)\u001b[0m\u001b[0;34m.\u001b[0m\u001b[0m__init__\u001b[0m\u001b[0;34m(\u001b[0m\u001b[0mendog\u001b[0m\u001b[0;34m,\u001b[0m \u001b[0mexog\u001b[0m\u001b[0;34m,\u001b[0m \u001b[0;34m**\u001b[0m\u001b[0mkwargs\u001b[0m\u001b[0;34m)\u001b[0m\u001b[0;34m\u001b[0m\u001b[0;34m\u001b[0m\u001b[0m\n\u001b[0m\u001b[1;32m    191\u001b[0m         \u001b[0mself\u001b[0m\u001b[0;34m.\u001b[0m\u001b[0m_data_attr\u001b[0m\u001b[0;34m.\u001b[0m\u001b[0mextend\u001b[0m\u001b[0;34m(\u001b[0m\u001b[0;34m[\u001b[0m\u001b[0;34m'pinv_wexog'\u001b[0m\u001b[0;34m,\u001b[0m \u001b[0;34m'weights'\u001b[0m\u001b[0;34m]\u001b[0m\u001b[0;34m)\u001b[0m\u001b[0;34m\u001b[0m\u001b[0;34m\u001b[0m\u001b[0m\n\u001b[1;32m    192\u001b[0m \u001b[0;34m\u001b[0m\u001b[0m\n",
      "\u001b[0;32m~/Library/Python/3.8/lib/python/site-packages/statsmodels/base/model.py\u001b[0m in \u001b[0;36m__init__\u001b[0;34m(self, endog, exog, **kwargs)\u001b[0m\n\u001b[1;32m    235\u001b[0m \u001b[0;34m\u001b[0m\u001b[0m\n\u001b[1;32m    236\u001b[0m     \u001b[0;32mdef\u001b[0m \u001b[0m__init__\u001b[0m\u001b[0;34m(\u001b[0m\u001b[0mself\u001b[0m\u001b[0;34m,\u001b[0m \u001b[0mendog\u001b[0m\u001b[0;34m,\u001b[0m \u001b[0mexog\u001b[0m\u001b[0;34m=\u001b[0m\u001b[0;32mNone\u001b[0m\u001b[0;34m,\u001b[0m \u001b[0;34m**\u001b[0m\u001b[0mkwargs\u001b[0m\u001b[0;34m)\u001b[0m\u001b[0;34m:\u001b[0m\u001b[0;34m\u001b[0m\u001b[0;34m\u001b[0m\u001b[0m\n\u001b[0;32m--> 237\u001b[0;31m         \u001b[0msuper\u001b[0m\u001b[0;34m(\u001b[0m\u001b[0mLikelihoodModel\u001b[0m\u001b[0;34m,\u001b[0m \u001b[0mself\u001b[0m\u001b[0;34m)\u001b[0m\u001b[0;34m.\u001b[0m\u001b[0m__init__\u001b[0m\u001b[0;34m(\u001b[0m\u001b[0mendog\u001b[0m\u001b[0;34m,\u001b[0m \u001b[0mexog\u001b[0m\u001b[0;34m,\u001b[0m \u001b[0;34m**\u001b[0m\u001b[0mkwargs\u001b[0m\u001b[0;34m)\u001b[0m\u001b[0;34m\u001b[0m\u001b[0;34m\u001b[0m\u001b[0m\n\u001b[0m\u001b[1;32m    238\u001b[0m         \u001b[0mself\u001b[0m\u001b[0;34m.\u001b[0m\u001b[0minitialize\u001b[0m\u001b[0;34m(\u001b[0m\u001b[0;34m)\u001b[0m\u001b[0;34m\u001b[0m\u001b[0;34m\u001b[0m\u001b[0m\n\u001b[1;32m    239\u001b[0m \u001b[0;34m\u001b[0m\u001b[0m\n",
      "\u001b[0;32m~/Library/Python/3.8/lib/python/site-packages/statsmodels/base/model.py\u001b[0m in \u001b[0;36m__init__\u001b[0;34m(self, endog, exog, **kwargs)\u001b[0m\n\u001b[1;32m     75\u001b[0m         \u001b[0mmissing\u001b[0m \u001b[0;34m=\u001b[0m \u001b[0mkwargs\u001b[0m\u001b[0;34m.\u001b[0m\u001b[0mpop\u001b[0m\u001b[0;34m(\u001b[0m\u001b[0;34m'missing'\u001b[0m\u001b[0;34m,\u001b[0m \u001b[0;34m'none'\u001b[0m\u001b[0;34m)\u001b[0m\u001b[0;34m\u001b[0m\u001b[0;34m\u001b[0m\u001b[0m\n\u001b[1;32m     76\u001b[0m         \u001b[0mhasconst\u001b[0m \u001b[0;34m=\u001b[0m \u001b[0mkwargs\u001b[0m\u001b[0;34m.\u001b[0m\u001b[0mpop\u001b[0m\u001b[0;34m(\u001b[0m\u001b[0;34m'hasconst'\u001b[0m\u001b[0;34m,\u001b[0m \u001b[0;32mNone\u001b[0m\u001b[0;34m)\u001b[0m\u001b[0;34m\u001b[0m\u001b[0;34m\u001b[0m\u001b[0m\n\u001b[0;32m---> 77\u001b[0;31m         self.data = self._handle_data(endog, exog, missing, hasconst,\n\u001b[0m\u001b[1;32m     78\u001b[0m                                       **kwargs)\n\u001b[1;32m     79\u001b[0m         \u001b[0mself\u001b[0m\u001b[0;34m.\u001b[0m\u001b[0mk_constant\u001b[0m \u001b[0;34m=\u001b[0m \u001b[0mself\u001b[0m\u001b[0;34m.\u001b[0m\u001b[0mdata\u001b[0m\u001b[0;34m.\u001b[0m\u001b[0mk_constant\u001b[0m\u001b[0;34m\u001b[0m\u001b[0;34m\u001b[0m\u001b[0m\n",
      "\u001b[0;32m~/Library/Python/3.8/lib/python/site-packages/statsmodels/base/model.py\u001b[0m in \u001b[0;36m_handle_data\u001b[0;34m(self, endog, exog, missing, hasconst, **kwargs)\u001b[0m\n\u001b[1;32m     99\u001b[0m \u001b[0;34m\u001b[0m\u001b[0m\n\u001b[1;32m    100\u001b[0m     \u001b[0;32mdef\u001b[0m \u001b[0m_handle_data\u001b[0m\u001b[0;34m(\u001b[0m\u001b[0mself\u001b[0m\u001b[0;34m,\u001b[0m \u001b[0mendog\u001b[0m\u001b[0;34m,\u001b[0m \u001b[0mexog\u001b[0m\u001b[0;34m,\u001b[0m \u001b[0mmissing\u001b[0m\u001b[0;34m,\u001b[0m \u001b[0mhasconst\u001b[0m\u001b[0;34m,\u001b[0m \u001b[0;34m**\u001b[0m\u001b[0mkwargs\u001b[0m\u001b[0;34m)\u001b[0m\u001b[0;34m:\u001b[0m\u001b[0;34m\u001b[0m\u001b[0;34m\u001b[0m\u001b[0m\n\u001b[0;32m--> 101\u001b[0;31m         \u001b[0mdata\u001b[0m \u001b[0;34m=\u001b[0m \u001b[0mhandle_data\u001b[0m\u001b[0;34m(\u001b[0m\u001b[0mendog\u001b[0m\u001b[0;34m,\u001b[0m \u001b[0mexog\u001b[0m\u001b[0;34m,\u001b[0m \u001b[0mmissing\u001b[0m\u001b[0;34m,\u001b[0m \u001b[0mhasconst\u001b[0m\u001b[0;34m,\u001b[0m \u001b[0;34m**\u001b[0m\u001b[0mkwargs\u001b[0m\u001b[0;34m)\u001b[0m\u001b[0;34m\u001b[0m\u001b[0;34m\u001b[0m\u001b[0m\n\u001b[0m\u001b[1;32m    102\u001b[0m         \u001b[0;31m# kwargs arrays could have changed, easier to just attach here\u001b[0m\u001b[0;34m\u001b[0m\u001b[0;34m\u001b[0m\u001b[0;34m\u001b[0m\u001b[0m\n\u001b[1;32m    103\u001b[0m         \u001b[0;32mfor\u001b[0m \u001b[0mkey\u001b[0m \u001b[0;32min\u001b[0m \u001b[0mkwargs\u001b[0m\u001b[0;34m:\u001b[0m\u001b[0;34m\u001b[0m\u001b[0;34m\u001b[0m\u001b[0m\n",
      "\u001b[0;32m~/Library/Python/3.8/lib/python/site-packages/statsmodels/base/data.py\u001b[0m in \u001b[0;36mhandle_data\u001b[0;34m(endog, exog, missing, hasconst, **kwargs)\u001b[0m\n\u001b[1;32m    670\u001b[0m \u001b[0;34m\u001b[0m\u001b[0m\n\u001b[1;32m    671\u001b[0m     \u001b[0mklass\u001b[0m \u001b[0;34m=\u001b[0m \u001b[0mhandle_data_class_factory\u001b[0m\u001b[0;34m(\u001b[0m\u001b[0mendog\u001b[0m\u001b[0;34m,\u001b[0m \u001b[0mexog\u001b[0m\u001b[0;34m)\u001b[0m\u001b[0;34m\u001b[0m\u001b[0;34m\u001b[0m\u001b[0m\n\u001b[0;32m--> 672\u001b[0;31m     return klass(endog, exog=exog, missing=missing, hasconst=hasconst,\n\u001b[0m\u001b[1;32m    673\u001b[0m                  **kwargs)\n",
      "\u001b[0;32m~/Library/Python/3.8/lib/python/site-packages/statsmodels/base/data.py\u001b[0m in \u001b[0;36m__init__\u001b[0;34m(self, endog, exog, missing, hasconst, **kwargs)\u001b[0m\n\u001b[1;32m     85\u001b[0m         \u001b[0mself\u001b[0m\u001b[0;34m.\u001b[0m\u001b[0mconst_idx\u001b[0m \u001b[0;34m=\u001b[0m \u001b[0;32mNone\u001b[0m\u001b[0;34m\u001b[0m\u001b[0;34m\u001b[0m\u001b[0m\n\u001b[1;32m     86\u001b[0m         \u001b[0mself\u001b[0m\u001b[0;34m.\u001b[0m\u001b[0mk_constant\u001b[0m \u001b[0;34m=\u001b[0m \u001b[0;36m0\u001b[0m\u001b[0;34m\u001b[0m\u001b[0;34m\u001b[0m\u001b[0m\n\u001b[0;32m---> 87\u001b[0;31m         \u001b[0mself\u001b[0m\u001b[0;34m.\u001b[0m\u001b[0m_handle_constant\u001b[0m\u001b[0;34m(\u001b[0m\u001b[0mhasconst\u001b[0m\u001b[0;34m)\u001b[0m\u001b[0;34m\u001b[0m\u001b[0;34m\u001b[0m\u001b[0m\n\u001b[0m\u001b[1;32m     88\u001b[0m         \u001b[0mself\u001b[0m\u001b[0;34m.\u001b[0m\u001b[0m_check_integrity\u001b[0m\u001b[0;34m(\u001b[0m\u001b[0;34m)\u001b[0m\u001b[0;34m\u001b[0m\u001b[0;34m\u001b[0m\u001b[0m\n\u001b[1;32m     89\u001b[0m         \u001b[0mself\u001b[0m\u001b[0;34m.\u001b[0m\u001b[0m_cache\u001b[0m \u001b[0;34m=\u001b[0m \u001b[0;34m{\u001b[0m\u001b[0;34m}\u001b[0m\u001b[0;34m\u001b[0m\u001b[0;34m\u001b[0m\u001b[0m\n",
      "\u001b[0;32m~/Library/Python/3.8/lib/python/site-packages/statsmodels/base/data.py\u001b[0m in \u001b[0;36m_handle_constant\u001b[0;34m(self, hasconst)\u001b[0m\n\u001b[1;32m    131\u001b[0m             \u001b[0mexog_max\u001b[0m \u001b[0;34m=\u001b[0m \u001b[0mnp\u001b[0m\u001b[0;34m.\u001b[0m\u001b[0mmax\u001b[0m\u001b[0;34m(\u001b[0m\u001b[0mself\u001b[0m\u001b[0;34m.\u001b[0m\u001b[0mexog\u001b[0m\u001b[0;34m,\u001b[0m \u001b[0maxis\u001b[0m\u001b[0;34m=\u001b[0m\u001b[0;36m0\u001b[0m\u001b[0;34m)\u001b[0m\u001b[0;34m\u001b[0m\u001b[0;34m\u001b[0m\u001b[0m\n\u001b[1;32m    132\u001b[0m             \u001b[0;32mif\u001b[0m \u001b[0;32mnot\u001b[0m \u001b[0mnp\u001b[0m\u001b[0;34m.\u001b[0m\u001b[0misfinite\u001b[0m\u001b[0;34m(\u001b[0m\u001b[0mexog_max\u001b[0m\u001b[0;34m)\u001b[0m\u001b[0;34m.\u001b[0m\u001b[0mall\u001b[0m\u001b[0;34m(\u001b[0m\u001b[0;34m)\u001b[0m\u001b[0;34m:\u001b[0m\u001b[0;34m\u001b[0m\u001b[0;34m\u001b[0m\u001b[0m\n\u001b[0;32m--> 133\u001b[0;31m                 \u001b[0;32mraise\u001b[0m \u001b[0mMissingDataError\u001b[0m\u001b[0;34m(\u001b[0m\u001b[0;34m'exog contains inf or nans'\u001b[0m\u001b[0;34m)\u001b[0m\u001b[0;34m\u001b[0m\u001b[0;34m\u001b[0m\u001b[0m\n\u001b[0m\u001b[1;32m    134\u001b[0m             \u001b[0mexog_min\u001b[0m \u001b[0;34m=\u001b[0m \u001b[0mnp\u001b[0m\u001b[0;34m.\u001b[0m\u001b[0mmin\u001b[0m\u001b[0;34m(\u001b[0m\u001b[0mself\u001b[0m\u001b[0;34m.\u001b[0m\u001b[0mexog\u001b[0m\u001b[0;34m,\u001b[0m \u001b[0maxis\u001b[0m\u001b[0;34m=\u001b[0m\u001b[0;36m0\u001b[0m\u001b[0;34m)\u001b[0m\u001b[0;34m\u001b[0m\u001b[0;34m\u001b[0m\u001b[0m\n\u001b[1;32m    135\u001b[0m             \u001b[0mconst_idx\u001b[0m \u001b[0;34m=\u001b[0m \u001b[0mnp\u001b[0m\u001b[0;34m.\u001b[0m\u001b[0mwhere\u001b[0m\u001b[0;34m(\u001b[0m\u001b[0mexog_max\u001b[0m \u001b[0;34m==\u001b[0m \u001b[0mexog_min\u001b[0m\u001b[0;34m)\u001b[0m\u001b[0;34m[\u001b[0m\u001b[0;36m0\u001b[0m\u001b[0;34m]\u001b[0m\u001b[0;34m.\u001b[0m\u001b[0msqueeze\u001b[0m\u001b[0;34m(\u001b[0m\u001b[0;34m)\u001b[0m\u001b[0;34m\u001b[0m\u001b[0;34m\u001b[0m\u001b[0m\n",
      "\u001b[0;31mMissingDataError\u001b[0m: exog contains inf or nans"
     ]
    }
   ],
   "source": [
    "grade_12_df = cleaned_df[cleaned_df[\"grade\"] == 12]\n",
    "x = grade_12_df[[\"instruction_spend_per_student\", 'lep', 'homeless', 'migrant', 'disability', 'econ_disadvantaged', 'foster_care', 'military_connected','race',\"sex\",'exp_current_instruction_total']]  # add more explanatory variables; \n",
    "y = grade_12_df['read_test_pct_prof_midpt']\n",
    "x = sm.add_constant(x)\n",
    "est = sm.OLS(y, x).fit()\n",
    "est.summary()"
   ]
  },
  {
   "cell_type": "markdown",
   "metadata": {},
   "source": [
    "## OLS Model for Reading proficiency only (math excluded)"
   ]
  },
  {
   "cell_type": "code",
   "execution_count": 129,
   "metadata": {},
   "outputs": [
    {
     "data": {
      "text/html": [
       "<table class=\"simpletable\">\n",
       "<caption>OLS Regression Results</caption>\n",
       "<tr>\n",
       "  <th>Dep. Variable:</th>    <td>read_test_pct_prof_midpt</td> <th>  R-squared:         </th>  <td>   0.163</td>  \n",
       "</tr>\n",
       "<tr>\n",
       "  <th>Model:</th>                       <td>OLS</td>           <th>  Adj. R-squared:    </th>  <td>   0.163</td>  \n",
       "</tr>\n",
       "<tr>\n",
       "  <th>Method:</th>                 <td>Least Squares</td>      <th>  F-statistic:       </th>  <td>3.747e+05</td> \n",
       "</tr>\n",
       "<tr>\n",
       "  <th>Date:</th>                 <td>Mon, 08 Feb 2021</td>     <th>  Prob (F-statistic):</th>   <td>  0.00</td>   \n",
       "</tr>\n",
       "<tr>\n",
       "  <th>Time:</th>                     <td>18:47:39</td>         <th>  Log-Likelihood:    </th> <td>-6.9182e+07</td>\n",
       "</tr>\n",
       "<tr>\n",
       "  <th>No. Observations:</th>         <td>15404448</td>         <th>  AIC:               </th>  <td>1.384e+08</td> \n",
       "</tr>\n",
       "<tr>\n",
       "  <th>Df Residuals:</th>             <td>15404439</td>         <th>  BIC:               </th>  <td>1.384e+08</td> \n",
       "</tr>\n",
       "<tr>\n",
       "  <th>Df Model:</th>                  <td>     8</td>          <th>                     </th>      <td> </td>     \n",
       "</tr>\n",
       "<tr>\n",
       "  <th>Covariance Type:</th>          <td>nonrobust</td>        <th>                     </th>      <td> </td>     \n",
       "</tr>\n",
       "</table>\n",
       "<table class=\"simpletable\">\n",
       "<tr>\n",
       "                <td></td>                   <th>coef</th>     <th>std err</th>      <th>t</th>      <th>P>|t|</th>  <th>[0.025</th>    <th>0.975]</th>  \n",
       "</tr>\n",
       "<tr>\n",
       "  <th>lep</th>                           <td>    0.2580</td> <td>    0.000</td> <td>  774.276</td> <td> 0.000</td> <td>    0.257</td> <td>    0.259</td>\n",
       "</tr>\n",
       "<tr>\n",
       "  <th>homeless</th>                      <td>    0.2019</td> <td>    0.000</td> <td>  474.591</td> <td> 0.000</td> <td>    0.201</td> <td>    0.203</td>\n",
       "</tr>\n",
       "<tr>\n",
       "  <th>migrant</th>                       <td>    0.1448</td> <td>    0.001</td> <td>  181.008</td> <td> 0.000</td> <td>    0.143</td> <td>    0.146</td>\n",
       "</tr>\n",
       "<tr>\n",
       "  <th>disability</th>                    <td>    0.2953</td> <td>    0.000</td> <td> 1257.353</td> <td> 0.000</td> <td>    0.295</td> <td>    0.296</td>\n",
       "</tr>\n",
       "<tr>\n",
       "  <th>econ_disadvantaged</th>            <td>    0.0886</td> <td>    0.000</td> <td>  408.194</td> <td> 0.000</td> <td>    0.088</td> <td>    0.089</td>\n",
       "</tr>\n",
       "<tr>\n",
       "  <th>foster_care</th>                   <td>   -0.1946</td> <td>    0.001</td> <td> -291.501</td> <td> 0.000</td> <td>   -0.196</td> <td>   -0.193</td>\n",
       "</tr>\n",
       "<tr>\n",
       "  <th>military_connected</th>            <td>   -0.1946</td> <td>    0.001</td> <td> -291.501</td> <td> 0.000</td> <td>   -0.196</td> <td>   -0.193</td>\n",
       "</tr>\n",
       "<tr>\n",
       "  <th>race</th>                          <td>    0.0132</td> <td>    0.000</td> <td>   71.553</td> <td> 0.000</td> <td>    0.013</td> <td>    0.014</td>\n",
       "</tr>\n",
       "<tr>\n",
       "  <th>sex</th>                           <td>    0.0002</td> <td>    0.000</td> <td>    1.276</td> <td> 0.202</td> <td>   -0.000</td> <td>    0.001</td>\n",
       "</tr>\n",
       "<tr>\n",
       "  <th>exp_current_instruction_total</th> <td> 6.888e-09</td> <td> 7.37e-11</td> <td>   93.499</td> <td> 0.000</td> <td> 6.74e-09</td> <td> 7.03e-09</td>\n",
       "</tr>\n",
       "</table>\n",
       "<table class=\"simpletable\">\n",
       "<tr>\n",
       "  <th>Omnibus:</th>       <td>907351.160</td> <th>  Durbin-Watson:     </th>  <td>   0.051</td> \n",
       "</tr>\n",
       "<tr>\n",
       "  <th>Prob(Omnibus):</th>   <td> 0.000</td>   <th>  Jarque-Bera (JB):  </th> <td>423020.261</td>\n",
       "</tr>\n",
       "<tr>\n",
       "  <th>Skew:</th>            <td>-0.209</td>   <th>  Prob(JB):          </th>  <td>    0.00</td> \n",
       "</tr>\n",
       "<tr>\n",
       "  <th>Kurtosis:</th>        <td> 2.305</td>   <th>  Cond. No.          </th>  <td>2.86e+21</td> \n",
       "</tr>\n",
       "</table><br/><br/>Notes:<br/>[1] Standard Errors assume that the covariance matrix of the errors is correctly specified.<br/>[2] The smallest eigenvalue is 1.23e-20. This might indicate that there are<br/>strong multicollinearity problems or that the design matrix is singular."
      ],
      "text/plain": [
       "<class 'statsmodels.iolib.summary.Summary'>\n",
       "\"\"\"\n",
       "                               OLS Regression Results                               \n",
       "====================================================================================\n",
       "Dep. Variable:     read_test_pct_prof_midpt   R-squared:                       0.163\n",
       "Model:                                  OLS   Adj. R-squared:                  0.163\n",
       "Method:                       Least Squares   F-statistic:                 3.747e+05\n",
       "Date:                      Mon, 08 Feb 2021   Prob (F-statistic):               0.00\n",
       "Time:                              18:47:39   Log-Likelihood:            -6.9182e+07\n",
       "No. Observations:                  15404448   AIC:                         1.384e+08\n",
       "Df Residuals:                      15404439   BIC:                         1.384e+08\n",
       "Df Model:                                 8                                         \n",
       "Covariance Type:                  nonrobust                                         \n",
       "=================================================================================================\n",
       "                                    coef    std err          t      P>|t|      [0.025      0.975]\n",
       "-------------------------------------------------------------------------------------------------\n",
       "lep                               0.2580      0.000    774.276      0.000       0.257       0.259\n",
       "homeless                          0.2019      0.000    474.591      0.000       0.201       0.203\n",
       "migrant                           0.1448      0.001    181.008      0.000       0.143       0.146\n",
       "disability                        0.2953      0.000   1257.353      0.000       0.295       0.296\n",
       "econ_disadvantaged                0.0886      0.000    408.194      0.000       0.088       0.089\n",
       "foster_care                      -0.1946      0.001   -291.501      0.000      -0.196      -0.193\n",
       "military_connected               -0.1946      0.001   -291.501      0.000      -0.196      -0.193\n",
       "race                              0.0132      0.000     71.553      0.000       0.013       0.014\n",
       "sex                               0.0002      0.000      1.276      0.202      -0.000       0.001\n",
       "exp_current_instruction_total  6.888e-09   7.37e-11     93.499      0.000    6.74e-09    7.03e-09\n",
       "==============================================================================\n",
       "Omnibus:                   907351.160   Durbin-Watson:                   0.051\n",
       "Prob(Omnibus):                  0.000   Jarque-Bera (JB):           423020.261\n",
       "Skew:                          -0.209   Prob(JB):                         0.00\n",
       "Kurtosis:                       2.305   Cond. No.                     2.86e+21\n",
       "==============================================================================\n",
       "\n",
       "Notes:\n",
       "[1] Standard Errors assume that the covariance matrix of the errors is correctly specified.\n",
       "[2] The smallest eigenvalue is 1.23e-20. This might indicate that there are\n",
       "strong multicollinearity problems or that the design matrix is singular.\n",
       "\"\"\""
      ]
     },
     "execution_count": 129,
     "metadata": {},
     "output_type": "execute_result"
    }
   ],
   "source": [
    "x = cleaned_df[['lep', 'homeless', 'migrant', 'disability', \n",
    "                'econ_disadvantaged', 'foster_care', \n",
    "                'military_connected','race',\"sex\",\n",
    "                'exp_current_instruction_total']]  \n",
    "\n",
    "y = cleaned_df['read_test_pct_prof_midpt']\n",
    "x = sm.add_constant(x)\n",
    "est = sm.OLS(y, x).fit()\n",
    "est.summary()"
   ]
  },
  {
   "cell_type": "code",
   "execution_count": null,
   "metadata": {},
   "outputs": [],
   "source": [
    "# getting one single year to better understand how the model is working\n",
    "finance_2015_df = finance_df[finance_df.year == 2015]"
   ]
  },
  {
   "cell_type": "code",
   "execution_count": null,
   "metadata": {},
   "outputs": [],
   "source": [
    "# getting one single year to better understand how the model is working\n",
    "finance_2015_df.head(5)"
   ]
  },
  {
   "cell_type": "code",
   "execution_count": null,
   "metadata": {},
   "outputs": [],
   "source": [
    "# getting one single year to better understand how the model is working\n",
    "edfacts_2015_df.head(5)"
   ]
  },
  {
   "cell_type": "code",
   "execution_count": null,
   "metadata": {},
   "outputs": [],
   "source": [
    "# this would be disagregated by race (ie, race is not 00)\n",
    "edfacts_2015_by_race_df = edfacts_2015_df[(edfacts_2015_df['sex']== 99)\n",
    "                                       & (edfacts_2015_df['lep']== 99)\n",
    "                                      & (edfacts_2015_df['homeless']== 99)\n",
    "                                      & (edfacts_2015_df['migrant']== 99)\n",
    "                                      & (edfacts_2015_df['disability']== 99)\n",
    "                                      & (edfacts_2015_df['econ_disadvantaged']== 99)\n",
    "                                      & (edfacts_2015_df['foster_care']== 99)\n",
    "                                      & (edfacts_2015_df['military_connected']== 99) \n",
    "                                       & (edfacts_2015_df['grade_edfacts']== 99)]\n",
    "\n",
    "edfacts_2015_without_total_race_df = edfacts_2015_by_race_df[edfacts_2015_by_race_df['race'] != 99]\n",
    "edfacts_2015_without_total_race_df.head(20)"
   ]
  },
  {
   "cell_type": "markdown",
   "metadata": {},
   "source": [
    "### For the output above, we see that if the number of valid tests taken is larger than 300, we get the actual percentage of students that scored proficient. If it is smaller than 300, it gets bucketed into ranges for anonimization."
   ]
  },
  {
   "cell_type": "code",
   "execution_count": null,
   "metadata": {},
   "outputs": [],
   "source": [
    "from collections import defaultdict"
   ]
  },
  {
   "cell_type": "code",
   "execution_count": null,
   "metadata": {},
   "outputs": [],
   "source": [
    "edfacts_by_race_df = [edfacts_2009_df, edfacts_2010_df, edfacts_2011_df, edfacts_2012_df,\n",
    "                         edfacts_2013_df, edfacts_2014_df, edfacts_2015_df, edfacts_2016_df,\n",
    "                         edfacts_2017_df]\n",
    "\n",
    "edfacts_df_dict = defaultdict(list)\n",
    "i = 2009\n",
    "for df in edfacts_by_race_df:\n",
    "    new_df_name = df[(df['sex']== 99)\n",
    "                                       & (df['lep']== 99)\n",
    "                                      & (df['homeless']== 99)\n",
    "                                      & (df['migrant']== 99)\n",
    "                                      & (df['disability']== 99)\n",
    "                                      & (df['econ_disadvantaged']== 99)\n",
    "                                      & (df['foster_care']== 99)\n",
    "                                      & (df['military_connected']== 99) \n",
    "                                       & (df['grade_edfacts']== 99)]\n",
    "    edfacts_df_dict[i] = new_df_name\n",
    "    i += 1\n"
   ]
  },
  {
   "cell_type": "code",
   "execution_count": null,
   "metadata": {},
   "outputs": [],
   "source": [
    "edfacts_df_dict.keys()"
   ]
  },
  {
   "cell_type": "code",
   "execution_count": null,
   "metadata": {},
   "outputs": [],
   "source": [
    "edfacts_2015_race_df = edfacts_df_dict[2015]\n",
    "edfacts_2015_race_df.head()"
   ]
  },
  {
   "cell_type": "code",
   "execution_count": null,
   "metadata": {},
   "outputs": [],
   "source": [
    "edfacts_2015_race_df['read_test_num_valid'].describe()"
   ]
  },
  {
   "cell_type": "code",
   "execution_count": null,
   "metadata": {},
   "outputs": [],
   "source": [
    "edfacts_2015_race_df['read_test_num_valid'].describe()\n",
    "edfacts_2015_race_df.hist(column='read_test_num_valid', bins=5)\n",
    "edfacts_2015_race_df['read_test_num_valid']"
   ]
  },
  {
   "cell_type": "code",
   "execution_count": null,
   "metadata": {},
   "outputs": [],
   "source": [
    "edfacts_2015_race_df_drop_read_outlier = edfacts_2015_race_df[(edfacts_2015_race_df['read_test_num_valid'] < float('1000')) \n",
    "                                                              & (edfacts_2015_race_df['race'] == 99)]\n",
    "edfacts_2015_race_df_drop_read_outlier['read_test_num_valid'].describe()\n",
    "edfacts_2015_race_df_drop_read_outlier.hist(column='read_test_num_valid', bins=100)"
   ]
  },
  {
   "cell_type": "code",
   "execution_count": null,
   "metadata": {},
   "outputs": [],
   "source": [
    "# removing all negative entries, which means data is supressed (-1), not applicable (-2), or missing (-3)\n",
    "# we are only focusing on districts w/ over 100 students\n",
    "\n",
    "finance_by_year_df = [edfacts_2009_df, edfacts_2010_df, edfacts_2011_df, edfacts_2012_df,\n",
    "                         edfacts_2013_df, edfacts_2014_df, edfacts_2015_df, edfacts_2016_df,\n",
    "                         edfacts_2017_df]\n",
    "\n",
    "my_values = defaultdict(list)\n",
    "i = 2009\n",
    "for df in edfacts_by_race_df:\n",
    "    new_df_name = df[(df['sex']== 99)\n",
    "                                       & (df['lep']== 99)\n",
    "                                      & (df['homeless']== 99)\n",
    "                                      & (df['migrant']== 99)\n",
    "                                      & (df['disability']== 99)\n",
    "                                      & (df['econ_disadvantaged']== 99)\n",
    "                                      & (df['foster_care']== 99)\n",
    "                                      & (df['military_connected']== 99) \n",
    "                                       & (df['grade_edfacts']== 99)]\n",
    "    my_values[i] = new_df_name\n",
    "    i += 1\n",
    "\n",
    "\n",
    "\n",
    "finance_2015_clean_df1 = finance_2015_df[(finance_2015_df['rev_total'] > 0) \n",
    "                                       & (finance_2015_df['exp_total'] > 0)\n",
    "                                       & (finance_2015_df['exp_current_instruction_total']> 0)\n",
    "                                      & (finance_2015_df['enrollment_fall_responsible'] > 100)]"
   ]
  },
  {
   "cell_type": "code",
   "execution_count": null,
   "metadata": {},
   "outputs": [],
   "source": [
    "finance_2015_clean_df1.head(5)"
   ]
  },
  {
   "cell_type": "code",
   "execution_count": null,
   "metadata": {},
   "outputs": [],
   "source": [
    "finance_2015_clean_df1.sort_values(by = 'enrollment_fall_responsible', ascending=True)"
   ]
  },
  {
   "cell_type": "code",
   "execution_count": null,
   "metadata": {},
   "outputs": [],
   "source": [
    "# removing all negative entries, which means data is supressed (-1), not applicable (-2), or missing (-3)\n",
    "edfacts_2015_clean_df1 = edfacts_2015_race_df[(edfacts_2015_race_df['read_test_pct_prof_low'] > 0) \n",
    "                                       | (edfacts_2015_race_df['read_test_pct_prof_high'] > 0)\n",
    "                                       | (edfacts_2015_race_df['read_test_pct_prof_midpt']> 0)\n",
    "                                      | (edfacts_2015_race_df['math_test_pct_prof_low'] > 0)\n",
    "                                      | (edfacts_2015_race_df['math_test_pct_prof_high'] > 0)\n",
    "                                      | (edfacts_2015_race_df['math_test_pct_prof_midpt'] > 0)]"
   ]
  },
  {
   "cell_type": "code",
   "execution_count": null,
   "metadata": {},
   "outputs": [],
   "source": [
    "edfacts_2015_clean_df1.head(5)"
   ]
  },
  {
   "cell_type": "code",
   "execution_count": null,
   "metadata": {},
   "outputs": [],
   "source": [
    "df_2015_clean = pd.merge(finance_2015_clean_df1, edfacts_2015_clean_df1, on = \"leaid\", how = \"inner\")"
   ]
  },
  {
   "cell_type": "code",
   "execution_count": null,
   "metadata": {},
   "outputs": [],
   "source": [
    "df_2015_clean.head(5)"
   ]
  },
  {
   "cell_type": "code",
   "execution_count": null,
   "metadata": {},
   "outputs": [],
   "source": [
    "print(df_2015_clean.columns.tolist())"
   ]
  },
  {
   "cell_type": "code",
   "execution_count": null,
   "metadata": {},
   "outputs": [],
   "source": [
    "df_2015_clean_dropna = df_2015_clean.dropna()"
   ]
  },
  {
   "cell_type": "code",
   "execution_count": null,
   "metadata": {},
   "outputs": [],
   "source": [
    "#print(df_2015_clean_dropna)"
   ]
  },
  {
   "cell_type": "code",
   "execution_count": null,
   "metadata": {},
   "outputs": [],
   "source": [
    "# X = inputs for prediction; Y = what we are predicting\n",
    "x = df_2015_clean_dropna['exp_current_instruction_total']\n",
    "y = df_2015_clean_dropna['read_test_pct_prof_high']\n",
    "x = sm.add_constant(x)\n",
    "est = sm.OLS(y, x).fit()\n",
    "est.summary()"
   ]
  },
  {
   "cell_type": "code",
   "execution_count": null,
   "metadata": {},
   "outputs": [],
   "source": [
    "plt.scatter(df_2015_clean_dropna['exp_current_instruction_total'], df_2015_clean_dropna['read_test_pct_prof_high'])"
   ]
  },
  {
   "cell_type": "code",
   "execution_count": null,
   "metadata": {},
   "outputs": [],
   "source": [
    "#check the outlier and drop it\n",
    "df_2015_clean_dropna.sort_values(by='exp_current_instruction_total', ascending=False)\n"
   ]
  },
  {
   "cell_type": "code",
   "execution_count": null,
   "metadata": {},
   "outputs": [],
   "source": [
    "df_2015_clean_drop_outlier = df_2015_clean_dropna[df_2015_clean_dropna['exp_current_instruction_total'] < float('1.646168e+09')]"
   ]
  },
  {
   "cell_type": "code",
   "execution_count": null,
   "metadata": {},
   "outputs": [],
   "source": [
    "plt.scatter(df_2015_clean_drop_outlier['exp_current_instruction_total'], df_2015_clean_drop_outlier['read_test_pct_prof_high'])"
   ]
  },
  {
   "cell_type": "code",
   "execution_count": null,
   "metadata": {},
   "outputs": [],
   "source": [
    "# create new column with per capita instructional expenditure per student\n",
    "df_2015_clean_drop_outlier['instructional_exp_per_student'] = df_2015_clean_drop_outlier['exp_current_instruction_total'] / df_2015_clean_drop_outlier['enrollment_fall_responsible']"
   ]
  },
  {
   "cell_type": "code",
   "execution_count": null,
   "metadata": {},
   "outputs": [],
   "source": [
    "plt.scatter(df_2015_clean_drop_outlier['instructional_exp_per_student'], df_2015_clean_drop_outlier['read_test_pct_prof_high'])"
   ]
  },
  {
   "cell_type": "code",
   "execution_count": null,
   "metadata": {},
   "outputs": [],
   "source": [
    "# what we see here -1.0 is not really a negative number it is $100M"
   ]
  },
  {
   "cell_type": "code",
   "execution_count": null,
   "metadata": {},
   "outputs": [],
   "source": [
    "df_2015_clean_drop_outlier['enrollment_fall_responsible'].describe()"
   ]
  },
  {
   "cell_type": "code",
   "execution_count": null,
   "metadata": {},
   "outputs": [],
   "source": [
    "\n",
    "df_2015_clean_drop_outlier.sort_values(by = 'enrollment_fall_responsible', ascending=True)"
   ]
  },
  {
   "cell_type": "code",
   "execution_count": null,
   "metadata": {},
   "outputs": [],
   "source": [
    "# X = inputs for prediction; Y = what we are predicting\n",
    "x = df_2015_clean_drop_outlier['exp_current_instruction_total']\n",
    "y = df_2015_clean_drop_outlier['read_test_pct_prof_high']\n",
    "x = sm.add_constant(x)\n",
    "est = sm.OLS(y, x).fit()\n",
    "est.summary()"
   ]
  },
  {
   "cell_type": "code",
   "execution_count": null,
   "metadata": {},
   "outputs": [],
   "source": [
    "x = df_2015_clean_drop_outlier['exp_current_instruction_total'].tolist() \n",
    "y = df_2015_clean_drop_outlier['read_test_pct_prof_high'].tolist() \n",
    "plt.scatter(x, y) \n",
    "  \n",
    "# finding the maximum and minimum \n",
    "# values of x, to get the \n",
    "# range of data \n",
    "max_x = df_2015_clean_drop_outlier['exp_current_instruction_total'].max() \n",
    "min_x = df_2015_clean_drop_outlier['read_test_pct_prof_high'].min() \n",
    "  \n",
    "# range of values for plotting \n",
    "# the regression line \n",
    "x = np.arange(min_x, max_x, 1) \n",
    "  \n",
    "# the substituted equation \n",
    "y = -3.186e-08 * x - 55.9731\n",
    "  \n",
    "# plotting the regression line \n",
    "plt.plot(y, 'r') \n",
    "plt.show() "
   ]
  },
  {
   "cell_type": "markdown",
   "metadata": {},
   "source": [
    "## Open questions:\n",
    "- I'm failing to add race. Not sure what needs to be done before I can use it since it is a categorical variable\n",
    "- Need to decide on the features we want (correlation amongst them?)"
   ]
  },
  {
   "cell_type": "markdown",
   "metadata": {},
   "source": [
    "## Features:\n",
    "- From Finance:\n",
    "    - All the dollar amounts here are highly correlated; we likely don't want to get rid of them but they will be highly correlated. We can devide exp_current_instruction total by exp_total to decouple it from the total amount.\n",
    "    - 'rev_total' - Numerical/measurement\n",
    "    - 'exp_total'  - Numerical/measurement \n",
    "    - 'exp_current_instruction_total' - Numerical/measurement \n",
    "    - 'enrollment_fall_responsible' - Numerical/measurement   - get per capita measure on $ spend\n",
    "    \n",
    "- From Directory: For this we should be able to recode\n",
    "    - 'urban_centric_locale': - categorical\n",
    "        1—Large city = city\n",
    "        2—Midsize city = city\n",
    "        3—Urban fringe of large city = city\n",
    "        4—Urban fringe of midsize city = city\n",
    "        5—Large town = town\n",
    "        6—Small town = town\n",
    "        7—Rural, outside CBSA = rural\n",
    "        8—Rural, inside CBSA  = rural\n",
    "        9—Not assigned\n",
    "        11—City, large = city\n",
    "        12—City, midsize = city\n",
    "        13—City, small = city\n",
    "        21—Suburb, large = suburb\n",
    "        22—Suburb, midsize = suburb\n",
    "        23—Suburb, small = suburb\n",
    "        31—Town, fringe = town\n",
    "        32—Town, distant = town\n",
    "        33—Town, remote = town\n",
    "        41—Rural, fringe = rural\n",
    "        42—Rural, distant = rural\n",
    "        43—Rural, remote = rural\n",
    "        \n",
    "- From edfacts: \n",
    "        'grade_edfacts' -  --> Ask OhKyu about this one. For this one, the recommendation is to limit it to school districts with the same grades, otherwise, it will introduce bias. We have to try if the better prediction is by grade (potentially more noisy, and lower grades may be less predictive) or by total. REgardless of which one we chose, we need to be consistent\n",
    "        'race', 'sex', 'lep', \n",
    "         'homeless', 'migrant', 'disability', 'econ_disadvantaged', 'foster_care', 'military_connected'\n",
    "         \n",
    "- From enrollment:\n",
    "        - grade\n",
    "        - race\n",
    "        - sex \n",
    "        - enrollment\n",
    "        \n",
    "- Look into Kappa statistic (provides the percent of accordance and it substracts a number that it happened by chance) and chi-square test of independence (this would allow to compare more than two features). Even for categorical variables, a correlation would still get us a number\n",
    "\n",
    "         \n",
    "\n",
    "        \n",
    "\n"
   ]
  },
  {
   "cell_type": "code",
   "execution_count": null,
   "metadata": {},
   "outputs": [],
   "source": [
    "# eta-squared, or eta, as an effect-size measure for the relationship of a categorical variable and a continuous variable.\n",
    "# -> categorical (multi) + continuous \n",
    "\n",
    "def correlation_ratio(categories, measurements):\n",
    "        fcat, _ = pd.factorize(categories)\n",
    "        cat_num = np.max(fcat)+1\n",
    "        y_avg_array = np.zeros(cat_num)\n",
    "        n_array = np.zeros(cat_num)\n",
    "        for i in range(0,cat_num):\n",
    "            cat_measures = measurements[np.argwhere(fcat == i).flatten()]\n",
    "            n_array[i] = len(cat_measures)\n",
    "            y_avg_array[i] = np.average(cat_measures)\n",
    "        y_total_avg = np.sum(np.multiply(y_avg_array,n_array))/np.sum(n_array)\n",
    "        numerator = np.sum(np.multiply(n_array,np.power(np.subtract(y_avg_array,y_total_avg),2)))\n",
    "        denominator = np.sum(np.power(np.subtract(measurements,y_total_avg),2))\n",
    "        if numerator == 0:\n",
    "            eta = 0.0\n",
    "        else:\n",
    "            eta = numerator/denominator\n",
    "        return eta"
   ]
  },
  {
   "cell_type": "code",
   "execution_count": null,
   "metadata": {},
   "outputs": [],
   "source": [
    "# This is for Pearson correlation, which may not be applicable for our type of variables. \n",
    "\n",
    "correlations = smokers[\n",
    "    (smokers[\"charges\"] >= charges.quantile(q=0.25))\n",
    "    & (smokers[\"charges\"] <= charges.quantile(q=0.75))\n",
    "]\n",
    "corr = central.corr()\n",
    "corr.style.background_gradient(cmap=\"coolwarm\").set_precision(2)"
   ]
  }
 ],
 "metadata": {
  "kernelspec": {
   "display_name": "Python 3",
   "language": "python",
   "name": "python3"
  },
  "language_info": {
   "codemirror_mode": {
    "name": "ipython",
    "version": 3
   },
   "file_extension": ".py",
   "mimetype": "text/x-python",
   "name": "python",
   "nbconvert_exporter": "python",
   "pygments_lexer": "ipython3",
   "version": "3.8.5"
  }
 },
 "nbformat": 4,
 "nbformat_minor": 4
}
